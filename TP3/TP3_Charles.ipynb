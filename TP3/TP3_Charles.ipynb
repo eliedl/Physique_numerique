{
 "cells": [
  {
   "cell_type": "markdown",
   "metadata": {
    "collapsed": true
   },
   "source": [
    "### Loi du déplacement de Wien\n",
    "\n",
    "La distribution de l'intensité de radiation d'un corps noit des décrit selon la relation\n",
    "\n",
    "\\begin{align}\n",
    "I(\\lambda) = \\frac{2\\pi h c^2 \\lambda^{-5}}{e^{hc/\\lambda k_{B}T} - 1}\n",
    "\\end{align}"
   ]
  },
  {
   "cell_type": "markdown",
   "metadata": {},
   "source": [
    "### a)\n",
    "Démontrer par différentiation que la longueur d'onde $\\lambda$ pour laquelle la radiation émise est la plus grande est une solution de l'équation\n",
    "\\begin{align}\n",
    "5e^{-hc3\\lambda k_BT} + \\frac{hc}{\\lambda k_BT} - 5 = 0\n",
    "\\end{align}\n",
    "\n",
    " On peut simplement trouver les extrémae de $I(\\lambda)$ en la différentiant. On applique alors la règle de différentiation de produits pour commencer les calculs.\n",
    "\n",
    "\\begin{align*}\n",
    " \\frac{d I}{d\\lambda} &=  2\\pi h c^2 \\lambda^{-5}\\frac{d}{d\\lambda}\\frac{1}{e^{hc/\\lambda k_{B}T} - 1} +  \\frac{1}{e^{hc/\\lambda k_{B}T} - 1}\\frac{d}{d\\lambda} 2\\pi h c^2 \\lambda^{-5}\n",
    " \\\\ &= -\\frac{5\\cdot 2\\pi h c^2 \\lambda^{-6}}{e^{hc/\\lambda k_{B}T} - 1} + 2\\pi h c^2 \\lambda^{-5}\\frac{d}{d\\lambda}\\frac{1}{e^{hc/\\lambda k_{B}T} - 1} \n",
    "\\end{align*}\n",
    "\n",
    "En substituant $x = e^{hc \\lambda k_BT} - 1$ et $dx = \\frac{-hc}{ \\lambda^{2} k_BT}e^{hc \\lambda k_BT}d\\lambda$, l'équation devient:\n",
    "\n",
    "\\begin{align*}\n",
    " \\frac{d I}{d\\lambda}&= -\\frac{5\\cdot 2\\pi h c^2 \\lambda^{-6}}{e^{hc/\\lambda k_{B}T} - 1} + 2\\pi h c^2 \\lambda^{-5}\\frac{d}{dx}\\frac{1}{x} \\frac{dx}{d\\lambda}\n",
    "\\\\ &=  -\\frac{5\\cdot 2\\pi h c^2 \\lambda^{-6}}{e^{hc/\\lambda k_{B}T} - 1} + 2\\pi h c^2 \\lambda^{-5}\\frac{-1}{x^2} \\frac{-hc}{ \\lambda^{2} k_BT}e^{hc \\lambda k_BT}\n",
    "\\\\ &= -\\frac{5\\cdot 2\\pi h c^2 \\lambda^{-6}}{e^{hc/\\lambda k_{B}T} - 1} - 2\\pi h c^2 \\lambda^{-5}\\frac{\\frac{-hc}{ \\lambda^{2} k_BT}^{hc /\\lambda k_BT}}{(e^{hc/ \\lambda k_BT} - 1)^2} \n",
    "\\end{align*}\n",
    "\n",
    "Comme on a une expression pour la dérivée, on peut alors la poser à zéro pour identifier les exrémums.\n",
    "\\begin{align*}\n",
    " -\\frac{5\\cdot 2\\pi h c^2 \\lambda^{-6}}{e^{hc/\\lambda k_{B}T} - 1} &- 2\\pi h c^2 \\lambda^{-5}\\frac{\\frac{-hc}{ \\lambda^{2} k_BT}e^{hc /\\lambda k_BT}}{(e^{hc/ \\lambda k_BT} - 1)^2} = 0\n",
    " \\\\  -\\frac{5\\cdot 2\\pi h c^2 \\lambda^{-6}}{e^{hc/\\lambda k_{B}T} - 1} &= 2\\pi h c^2 \\lambda^{-5}\\frac{\\frac{-hc}{ \\lambda^{2} k_BT}e^{hc/ \\lambda k_BT}}{(e^{hc /\\lambda k_BT} - 1)^2}\n",
    "  \\\\  -5\\cdot  \\lambda^{-1} &= \\frac{\\frac{-hc}{ \\lambda^{2} k_BT}e^{hc/ \\lambda k_BT}}{(e^{hc/ \\lambda k_BT} - 1)}\n",
    "  \\\\ -5\\cdot  \\lambda^{-1}(e^{hc /\\lambda k_BT} - 1) &=- \\frac{hc}{ \\lambda^{2} k_BT}e^{hc \\lambda k_BT}\n",
    "  \\\\ -5e^{hc/ \\lambda k_BT} + 5 &= -\\frac{hc}{ \\lambda k_BT}e^{hc/ \\lambda k_\n",
    "  BT}\n",
    "   \\\\ 5e^{-hc/ \\lambda k_BT} &+\\frac{hc}{ \\lambda k_BT} - 5 = 0\n",
    "\\end{align*}\n"
   ]
  },
  {
   "cell_type": "markdown",
   "metadata": {},
   "source": [
    "On voit donc que :\n",
    "\\begin{align}\n",
    "5e^{-hc/ \\lambda k_BT} &+\\frac{hc}{ \\lambda k_BT} - 5 = 0\n",
    "\\end{align}\n",
    "Représente alors un extrémum de $I(\\lambda)$. Comme la dérivée des deux premiers termes seront trivialement négatifs, on voit que pour tout $\\lambda$ positif, cette expression décrit un maximum local. Cela démontre alors que la longueur d'onde du maximum d'intensité dépends seulement de la température, seule autre variable présente dans l'équation.\n",
    "\n",
    "On peut alors faire la substitution $x = hc/\\lambda k_BT$ qui implique que:\n",
    "\\begin{align*}\n",
    "x = hc/\\lambda k_BT\n",
    "\\\\ \\lambda = \\frac{b}{T}\n",
    "\\end{align*}\n",
    "Tel que $b  = \\frac{hc}{k_Bx}$, et $x$ est alors simplement une constante, solution non nulle de l'équation\n",
    "\\begin{align*}\n",
    "5e^{-x} +x - 5 = 0\n"
   ]
  },
  {
   "cell_type": "markdown",
   "metadata": {},
   "source": [
    "### b)\n",
    "\n",
    "Écrire un programme python pour solutionner cette éuqation avec une précision de $\\epsilon = 10^{-6}$ avec la méthode de la bissection. On devrait ainsi trouver la constante du déplacement de Wien.\n",
    "\n",
    "\n",
    "En appliquant cette méthode, come on le voit dans le code plus bas, on obtient une valeur de $x$ répondant à l'équation $5e^{-x} +x - 5 = 0$ de 4.965114231754342.\n",
    "\n",
    "Il en découle alors que:\n",
    "\\begin{align}\n",
    "b &= \\frac{hc}{4.9651142\\cdot k_B} = 2.898\\times 10^{-3} m\\cdot K\n",
    "\\\\\\lambda_{pic} &= \\frac{2.898\\times 10^{-3} m\\cdot K}{T}\n",
    "\\end{align}\n",
    "Qui correspond bel et bien à la constante de Wien et la loi de déplacement de Wien respectivement."
   ]
  },
  {
   "cell_type": "code",
   "execution_count": 39,
   "metadata": {},
   "outputs": [
    {
     "name": "stdout",
     "output_type": "stream",
     "text": [
      "4.965114231780717\n"
     ]
    }
   ],
   "source": [
    "import numpy as np\n",
    "import matplotlib.pyplot as plt\n",
    "def bissection_method(function, a, b, epsilon):\n",
    "    #vérification des bornes positives et négatives \n",
    "    if np.sign(function(a)) == np.sign(function(b)):\n",
    "        print(\"Choix des bornes invalide, pas de bissection possible. Les deux bornes ont le même signe.\", positive)\n",
    "        return False\n",
    "    #code de la méthode bissectrice\n",
    "    while np.abs(b - a) > epsilon:\n",
    "        mean = (a + b )/2\n",
    "        if np.sign(function(mean)) == np.sign(function(a)):\n",
    "            a = mean\n",
    "        else:\n",
    "            b = mean\n",
    "    return (a+b)/2\n",
    "\n",
    "mafonction = lambda x: 5*np.e**(-x) + x - 5\n",
    "monmin = 1.\n",
    "monmax = 50.\n",
    "epsilon = 1e-10\n",
    "extrema = bissection_method(mafonction,monmin,monmax,epsilon)\n",
    "print(extrema)\n",
    "\n",
    "        "
   ]
  },
  {
   "cell_type": "markdown",
   "metadata": {},
   "source": [
    "### c)\n",
    "\n",
    "Si la longueur d'onde correspondant au maximum d'émission du spectre solaire est de $\\lambda = 502nm$, quelle est la température de sa surface?\n",
    "\n",
    "En utilisant les résultats précédents, on sait que :\n",
    "\\begin{align}\n",
    "\\lambda_{pic} = \\frac{2.898\\times 10^{-3} m\\cdot K}{T}\n",
    "\\end{align}\n",
    "On entre alors simplement les valeurs du problème pour arriver à:\n",
    "\\begin{align}\n",
    "502\\times 10^{-9}m &= \\frac{2.898\\times 10^{-3} m\\cdot K}{T}\n",
    "\\\\ T &= \\frac{2.898\\times 10^{-3} m\\cdot K}{502\\times 10^{-9}m}\n",
    "\\\\ T &= 5772\\ K\n",
    "\\end{align}\n",
    "Qui semble valide lorsque comparée à la valeur généralement acceptée de $5778\\ K$. En effet, le nombre de chiffres significatifs sur la longueur d'onde ne permettent pas de se rendre au Kelvin unique. Avec notre équation (ou plutôt celle de Wien) on aurait besoin d'environ $501.5\\ nm$ de longueur d'onde."
   ]
  },
  {
   "cell_type": "code",
   "execution_count": null,
   "metadata": {},
   "outputs": [],
   "source": []
  }
 ],
 "metadata": {
  "kernelspec": {
   "display_name": "Python 3",
   "language": "python",
   "name": "python3"
  },
  "language_info": {
   "codemirror_mode": {
    "name": "ipython",
    "version": 3
   },
   "file_extension": ".py",
   "mimetype": "text/x-python",
   "name": "python",
   "nbconvert_exporter": "python",
   "pygments_lexer": "ipython3",
   "version": "3.6.3"
  },
  "latex_envs": {
   "LaTeX_envs_menu_present": true,
   "autoclose": false,
   "autocomplete": false,
   "bibliofile": "biblio.bib",
   "cite_by": "apalike",
   "current_citInitial": 1,
   "eqLabelWithNumbers": true,
   "eqNumInitial": 1,
   "hotkeys": {
    "equation": "Ctrl-E",
    "itemize": "Ctrl-I"
   },
   "labels_anchors": false,
   "latex_user_defs": false,
   "report_style_numbering": false,
   "user_envs_cfg": false
  }
 },
 "nbformat": 4,
 "nbformat_minor": 1
}
