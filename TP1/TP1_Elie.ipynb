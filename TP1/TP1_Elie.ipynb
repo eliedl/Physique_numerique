{
 "cells": [
  {
   "cell_type": "code",
   "execution_count": 14,
   "metadata": {
    "collapsed": true
   },
   "outputs": [],
   "source": [
    "from IPython.display import Latex\n",
    "import numpy as np\n",
    "import matplotlib.pyplot as plt"
   ]
  },
  {
   "cell_type": "markdown",
   "metadata": {
    "collapsed": true
   },
   "source": [
    "# TP1 : Parcours des protons dans la matière\n",
    "\n",
    "## 1.\n",
    "\n",
    "   \\cite{newhauser2015physics} nous informe que l'énergie cinétique des protons utilisés en protonthérapie varie entre 11 et 220 MeV, énergies correspondant à des distances de pénétration respectives de 1mm et 30 cm. Cette dernière étant la plus creuse que nous pouvons atteindre, on en déduit que l'énergie maximale typiquement utilisée est 220 MeV. Malgré le fait que l'énergie maximale typique est de 220 MeV, \\cite{newhauser2015physics} mentionne aussi qu'elle peut atteindre 250 MeV dans certains cas."
   ]
  },
  {
   "cell_type": "markdown",
   "metadata": {},
   "source": [
    "### Relation entre le facteur de Lorentz $\\gamma$ et l'énergie du proton $T$\n",
    "l'énergie totale d'un proton est la somme de son énergie de masse au repos et de son énergie cinétique tel que,\n",
    "\n",
    "\\begin{align}\n",
    "E = m_p c^2 + T\n",
    "\\end{align}\n",
    "\n",
    "Par contre, l'énergie totale d'un proton en mouvement est aussi éagale à $\\gamma m_p c^2$. On peut ainsi écrire, \n",
    "\n",
    "\\begin{align}\n",
    "E = \\gamma m_p c^2 &= m_p c^2 + T\\\\\n",
    "\\Rightarrow\\ T &=  m_p c^2 (\\gamma - 1)\n",
    "\\end{align}\n",
    "\n",
    "Bref, en considérant la masse du proton en électron-Volts, on peut réécrire l'énergie cinétique $T$ comme,\n",
    "\n",
    "\\begin{align}\n",
    "T =  m_p (\\gamma - 1)\\ \\ [eV]\n",
    "\\end{align}"
   ]
  },
  {
   "cell_type": "markdown",
   "metadata": {},
   "source": [
    " \n",
    "### Relation entre le facteur de Lorentz $\\gamma$ et la vitesse réduite $\\beta$  \n",
    "\n",
    "Sachant que $\\gamma$ et $\\beta$ sont définit comme,"
   ]
  },
  {
   "cell_type": "markdown",
   "metadata": {},
   "source": [
    "\\begin{align}\n",
    "\\gamma = \\frac{1}{\\sqrt{1-v^2/c^2}}, \\ \\ \\beta = \\frac{v}{c}\n",
    "\\end{align}"
   ]
  },
  {
   "cell_type": "markdown",
   "metadata": {},
   "source": [
    "leur relation s'exprime comme"
   ]
  },
  {
   "cell_type": "markdown",
   "metadata": {},
   "source": [
    "\\begin{align}\n",
    "\\Rightarrow\\ \\gamma = \\frac{1}{\\sqrt{1-\\beta^2}}, \\ \\ \\beta = \\sqrt{\\frac{\\gamma^2 - 1}{\\gamma^2}}\n",
    "\\end{align}"
   ]
  },
  {
   "cell_type": "markdown",
   "metadata": {},
   "source": [
    "## 2. \n",
    "Dimensionnellement, la densité électronique s'exprime comme le nombre d'électrons contenu par unité de volume, i.e. \n",
    "\n",
    "\\begin{align}\n",
    "n_e = \\left[\\frac{\\text{Nombre d'électrons}}{m^3}\\right]\n",
    "\\end{align}\n",
    "\n",
    "La masse atomique est égale au nombre de nucléons présents dans l'atome. Par exemple, la masse molaire de l'eau se calcule comme suit,\n",
    "\n",
    "\\begin{align}\n",
    "M_{H_2 O} = 2\\times M_H + M_O = 2\\times 1 + 16 = 18\\ g\\cdot mol^{-1}\n",
    "\\end{align}\n",
    "\n",
    "Ainsi, la masse molaire d'une molécule s'exprime comme le nombre total de nucléons qui la compose, i.e.\n",
    "\n",
    "\\begin{align}\n",
    "M = \\sum_{i=1}^{k} N_i,\n",
    "\\end{align}\n",
    "\n",
    "où $k$ est le nombre d'atomes et $N_i$ est le nombre de nucléons composant respectivement ces derniers. De plus, le nombre d'électron présent dans une molécule est égal au nombre total de protons, \n",
    "\n",
    "\\begin{align}\n",
    "\\frac{Nombre\\ d'électron}{molécule} = \\sum_{i=1}^{k}Z_i\n",
    "\\end{align}\n",
    "\n",
    "Bref, par analyse dimensionelle, on peut exprimer la densité électronique comme:\n",
    "\n",
    "\\begin{align}\n",
    "n_e &\\doteq \\left[\\frac{Nombre\\ de\\ molécule}{mol}\\right]\\cdot\\left[\\frac{mol}{g}\\right]\\cdot\\left[\\frac{Nombre\\ d'électron}{molécule}\\right]\\cdot\\left[\\frac{g}{m^3}\\right] \\\\\n",
    "\\Rightarrow\\ n_e &= N_a \\rho \\frac{\\sum_{i=1}^{k}Z_i}{\\sum_{i=1}^{k} N_i}\n",
    "\\end{align}\n",
    "\n",
    "Comme la gamme d'énergie typique utilisée en proton thérapie va de 11 MeV à 220 MeV, il est légitime de négliger les termes de correction du pouvoir d'arrêt collisionnel.\n",
    "\n",
    "\\begin{align}\n",
    "S_{col}(T) = 2\\pi r_e^2 m_e c^2 n_e \\frac{1}{\\beta^2}\\left[\\ln\\left(\\frac{2 m_e c^2 \\beta^2 \\gamma^2 T_e^{max}}{I^2}\\right) - 2\\beta^2\\right]\n",
    "\\end{align}"
   ]
  },
  {
   "cell_type": "code",
   "execution_count": 3,
   "metadata": {
    "collapsed": true
   },
   "outputs": [],
   "source": [
    "\n",
    "\n",
    "\n",
    "def s_col(r_e, m_e, n_e, beta, gamma, Te_max, I):\n",
    "    \n",
    "    \"\"\" Retourne le pouvoir d'arrêt collisonnel d'un matériau\n",
    "    \n",
    "    :params:---------------Description---------------: Unités :\n",
    "           \n",
    "        r_e: Rayon électronique                          m\n",
    "        m_e: Masse de l'électron                         eV\n",
    "        n_e: Densité électronique du matériau          m^{-3}\n",
    "       beta: Facteur de vitesse réduite                  -\n",
    "      gamma: Facteur de Lorentz                          -\n",
    "     Te_max: Énergie maximale transférable p+ -> e-      eV\n",
    "          I: Énergie moyenne d'excitation du matériau    eV\n",
    "    \"\"\"\n",
    "    \n",
    "    return 2*np.pi*r_e**2*m_e*n_e*beta**(-2)*(np.log((2*m_e*beta**2*gamma**2*Te_max)/(I**2)) - 2*beta**2)"
   ]
  },
  {
   "cell_type": "markdown",
   "metadata": {},
   "source": [
    "## 3.\n",
    "\n",
    "l'approximation CSDA considère qu'un proton pénétrant la matière subit une décélération continue tout au long de son parcours. Suite à cette décélération, le proton se sera forcément arrêté à une distance que l'on appelle la portée par CSDA ($R_{CSDA}$). Cette portée s'exprime mathématiquement comme, \n",
    "\n",
    "\\begin{align}\n",
    "R_{CSDA} = \\int_0^{T_i} \\frac{dT'}{\\frac{S_{col}}{\\rho}} \\label{porte}\n",
    "\\end{align}\n",
    "\n",
    "Mais quelles sont les dimensions de la portée $R_{CSDA}$ ? Pour le trouver, procédons à l'analyse dimensionnelle du côté droit de (\\ref{porte}). D'abord, \n",
    "\n",
    "\\begin{align}\n",
    "\\frac{S_{col}}{\\rho} = -\\left(\\frac{dT}{\\rho dx}\\right) \\doteq \\left[J(kg\\;m^{-3})^{-1}m\\right] = \\left[J\\;kg^{-1}m^2\\right]\n",
    "\\end{align}\n",
    "\n",
    "l'intégrande de (\\ref{porte}) a donc des unités de,\n",
    "\n",
    "\\begin{align}\n",
    "\\frac{dT'}{\\frac{S_{col}}{\\rho}} &\\doteq \\left[J(J\\;kg^{-1}m^2)^{-1}\\right] = \\left[kg\\;m^{-2}\\right]\\\\\n",
    "R_{CSDA} &\\doteq \\left[kg\\;m^{-2}\\right]\n",
    "\\end{align}\n",
    "\n",
    "Donc, si on cherche à avoir la portée en mètres dans un matériau quelconque, comme l'eau par exemple, il nous faudra diviser $R_{CSDA}$ par la densité de ce dernier, i.e.\n",
    "\\begin{align}\n",
    "\\frac{R_{CSDA}}{\\rho} \\doteq \\left[m\\right]\n",
    "\\end{align}\n",
    "\n",
    "Bref, comme les valeurs de $\\frac{S_{col}}{\\rho}$ sont souvent fournies dans des tables de données, la portée des protons dans la matière est d'abord définie de façon générale par (\\ref{porte}). On peut ensuite obtenir une portée plus \"\\textit{intuitive}\" du proton en divisant par la densité de la matière d'intérêt."
   ]
  },
  {
   "cell_type": "markdown",
   "metadata": {},
   "source": [
    "# References\n",
    "\n",
    "(<a id=\"cit-newhauser2015physics\" href=\"#call-newhauser2015physics\">Newhauser and Zhang, 2015</a>) Newhauser Wayne D and Zhang Rui, ``_The physics of proton therapy_'', Physics in Medicine & Biology, vol. 60, number 8, pp. R155,  2015.\n",
    "\n"
   ]
  },
  {
   "cell_type": "code",
   "execution_count": null,
   "metadata": {
    "collapsed": true
   },
   "outputs": [],
   "source": []
  }
 ],
 "metadata": {
  "kernelspec": {
   "display_name": "Python 3",
   "language": "python",
   "name": "python3"
  },
  "language_info": {
   "codemirror_mode": {
    "name": "ipython",
    "version": 3
   },
   "file_extension": ".py",
   "mimetype": "text/x-python",
   "name": "python",
   "nbconvert_exporter": "python",
   "pygments_lexer": "ipython3",
   "version": "3.6.3"
  },
  "latex_envs": {
   "LaTeX_envs_menu_present": true,
   "autoclose": true,
   "autocomplete": false,
   "bibliofile": "TP1.bib",
   "cite_by": "apalike",
   "current_citInitial": 1,
   "eqLabelWithNumbers": true,
   "eqNumInitial": 1,
   "hotkeys": {
    "equation": "Ctrl-E",
    "itemize": "Ctrl-I"
   },
   "labels_anchors": false,
   "latex_user_defs": false,
   "report_style_numbering": false,
   "user_envs_cfg": false
  }
 },
 "nbformat": 4,
 "nbformat_minor": 1
}
