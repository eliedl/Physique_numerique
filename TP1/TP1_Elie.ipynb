{
 "cells": [
  {
   "cell_type": "code",
   "execution_count": 14,
   "metadata": {
    "collapsed": true
   },
   "outputs": [],
   "source": [
    "from IPython.display import Latex"
   ]
  },
  {
   "cell_type": "markdown",
   "metadata": {
    "collapsed": true
   },
   "source": [
    "# TP1 : Parcours des protons dans la matière\n",
    "\n",
    "## 1.\n",
    "\n",
    "   \\cite{newhauser2015physics} nous informe que l'énergie cinétique des protons utilisés en protonthérapie varie entre 11 et 220 MeV, énergies correspondant à des distances de pénétration respectives de 1mm et 30 cm. Cette dernière étant la plus creuse que nous pouvons atteindre, on en déduit que l'énergie maximale typiquement utilisée est 220 MeV. Malgré le fait que l'énergie maximale typique est de 220 MeV, \\cite{newhauser2015physics} mentionne aussi qu'elle peut atteindre 250 MeV dans certains cas."
   ]
  },
  {
   "cell_type": "markdown",
   "metadata": {},
   "source": [
    "### Relation entre le facteur de Lorentz $\\gamma$ et l'énergie du proton $T$\n",
    "l'énergie totale d'un proton est la somme de son énergie de masse au repos et de son énergie cinétique tel que,\n",
    "\n",
    "\\begin{align}\n",
    "E = m_p c^2 + T\n",
    "\\end{align}\n",
    "\n",
    "Par contre, l'énergie totale d'un proton en mouvement est aussi éagale à $\\gamma m_p c^2$. On peut ainsi écrire, \n",
    "\n",
    "\\begin{align}\n",
    "E = \\gamma m_p c^2 &= m_p c^2 + T\\\\\n",
    "\\Rightarrow\\ T &=  m_p c^2 (\\gamma - 1)\n",
    "\\end{align}\n",
    "\n",
    "Bref, en considérant la masse du proton en électron-Volts, on peut réécrire l'énergie cinétique $T$ comme,\n",
    "\n",
    "\\begin{align}\n",
    "T =  m_p (\\gamma - 1)\\ \\ [eV]\n",
    "\\end{align}"
   ]
  },
  {
   "cell_type": "markdown",
   "metadata": {},
   "source": [
    " \n",
    "### Relation entre le facteur de Lorentz $\\gamma$ et la vitesse réduite $\\beta$  \n",
    "\n",
    "Sachant que $\\gamma$ et $\\beta$ sont définit comme,"
   ]
  },
  {
   "cell_type": "markdown",
   "metadata": {},
   "source": [
    "\\begin{align}\n",
    "\\gamma = \\frac{1}{\\sqrt{1-v^2/c^2}}, \\ \\ \\beta = \\frac{v}{c}\n",
    "\\end{align}"
   ]
  },
  {
   "cell_type": "markdown",
   "metadata": {},
   "source": [
    "leur relation s'exprime comme"
   ]
  },
  {
   "cell_type": "markdown",
   "metadata": {},
   "source": [
    "\\begin{align}\n",
    "\\Rightarrow\\ \\gamma = \\frac{1}{\\sqrt{1-\\beta^2}}, \\ \\ \\beta = \\sqrt{\\frac{\\gamma^2 - 1}{\\gamma^2}}\n",
    "\\end{align}"
   ]
  },
  {
   "cell_type": "markdown",
   "metadata": {},
   "source": [
    "## 2. \n"
   ]
  },
  {
   "cell_type": "markdown",
   "metadata": {},
   "source": [
    "## 3.\n",
    "\n",
    "l'approximation CSDA considère qu'un proton pénétrant la matière subit une décélération continue tout au long de son parcours. Suite à cette décélération, le proton se sera forcément arrêté à une distance que l'on appelle la portée par CSDA ($R_{CSDA}$). Cette portée s'exprime mathématiquement comme, \n",
    "\n",
    "\\begin{align}\n",
    "R_{CSDA} = \\int_0^{T_i} \\frac{dT'}{\\frac{S_{col}}{\\rho}} \\label{porte}\n",
    "\\end{align}\n",
    "\n",
    "Mais quelles sont les dimensions de la portée $R_{CSDA}$ ? Pour le trouver, procédons à l'analyse dimensionnelle du côté droit de (\\ref{porte}). D'abord, \n",
    "\n",
    "\\begin{align}\n",
    "\\frac{S_{col}}{\\rho} = -\\left(\\frac{dT}{\\rho dx}\\right) \\doteq \\left[J(kg\\;m^{-3})^{-1}m\\right] = \\left[J\\;kg^{-1}m^2\\right]\n",
    "\\end{align}\n",
    "\n",
    "l'intégrande de (\\ref{porte}) a donc des unités de,\n",
    "\n",
    "\\begin{align}\n",
    "\\frac{dT'}{\\frac{S_{col}}{\\rho}} &\\doteq \\left[J(J\\;kg^{-1}m^2)^{-1}\\right] = \\left[kg\\;m^{-2}\\right]\\\\\n",
    "R_{CSDA} &\\doteq \\left[kg\\;m^{-2}\\right]\n",
    "\\end{align}\n",
    "\n",
    "Donc, si on cherche à avoir la portée en mètres dans un matériau quelconque, comme l'eau par exemple, il nous faudra diviser $R_{CSDA}$ par la densité de ce dernier, i.e.\n",
    "\\begin{align}\n",
    "\\frac{R_{CSDA}}{\\rho} \\doteq \\left[m\\right]\n",
    "\\end{align}\n",
    "\n",
    "Bref, comme les valeurs de $\\frac{S_{col}}{\\rho}$ sont souvent fournies dans des tables de données, la portée des protons dans la matière est d'abord définie de façon générale par (\\ref{porte}). On peut ensuite obtenir la portée plus \"\\textit{intuitive}\" du proton en divisant par la densité de la matière d'intérêt."
   ]
  },
  {
   "cell_type": "markdown",
   "metadata": {},
   "source": [
    "# References\n",
    "\n",
    "(<a id=\"cit-newhauser2015physics\" href=\"#call-newhauser2015physics\">Newhauser and Zhang, 2015</a>) Newhauser Wayne D and Zhang Rui, ``_The physics of proton therapy_'', Physics in Medicine & Biology, vol. 60, number 8, pp. R155,  2015.\n",
    "\n"
   ]
  },
  {
   "cell_type": "code",
   "execution_count": null,
   "metadata": {
    "collapsed": true
   },
   "outputs": [],
   "source": []
  }
 ],
 "metadata": {
  "kernelspec": {
   "display_name": "Python 3",
   "language": "python",
   "name": "python3"
  },
  "language_info": {
   "codemirror_mode": {
    "name": "ipython",
    "version": 3
   },
   "file_extension": ".py",
   "mimetype": "text/x-python",
   "name": "python",
   "nbconvert_exporter": "python",
   "pygments_lexer": "ipython3",
   "version": "3.6.3"
  },
  "latex_envs": {
   "LaTeX_envs_menu_present": true,
   "autoclose": true,
   "autocomplete": true,
   "bibliofile": "TP1.bib",
   "cite_by": "apalike",
   "current_citInitial": 1,
   "eqLabelWithNumbers": true,
   "eqNumInitial": 1,
   "hotkeys": {
    "equation": "Ctrl-E",
    "itemize": "Ctrl-I"
   },
   "labels_anchors": false,
   "latex_user_defs": false,
   "report_style_numbering": false,
   "user_envs_cfg": false
  }
 },
 "nbformat": 4,
 "nbformat_minor": 1
}
