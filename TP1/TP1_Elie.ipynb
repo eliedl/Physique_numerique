{
 "cells": [
  {
   "cell_type": "code",
   "execution_count": 94,
   "metadata": {
    "collapsed": true
   },
   "outputs": [],
   "source": [
    "from IPython.display import Latex\n",
    "import numpy as np\n",
    "import matplotlib.pyplot as plt\n",
    "from scipy.constants import physical_constants as pc\n",
    "from gaussxw import gaussxwab, gaussxw\n",
    "from timeit import default_timer as timer\n",
    "import scipy.integrate as integrate "
   ]
  },
  {
   "cell_type": "markdown",
   "metadata": {
    "collapsed": true
   },
   "source": [
    "# TP1 : Parcours des protons dans la matière\n",
    "\n",
    "## 1.\n",
    "\n",
    "   \\cite{newhauser2015physics} nous informe que l'énergie cinétique des protons utilisés en protonthérapie varie entre 11 et 220 MeV, énergies correspondant à des distances de pénétration respectives de 1mm et 30 cm. Cette dernière étant la plus creuse que nous pouvons atteindre, on en déduit que l'énergie maximale typiquement utilisée est 220 MeV. Malgré le fait que l'énergie maximale typique est de 220 MeV, \\cite{newhauser2015physics} mentionne aussi qu'elle peut atteindre 250 MeV dans certains cas."
   ]
  },
  {
   "cell_type": "markdown",
   "metadata": {},
   "source": [
    "### Relation entre le facteur de Lorentz $\\gamma$ et l'énergie du proton $T$\n",
    "l'énergie totale d'un proton est la somme de son énergie de masse au repos et de son énergie cinétique tel que,\n",
    "\n",
    "\\begin{align}\n",
    "E = m_p c^2 + T\n",
    "\\end{align}\n",
    "\n",
    "Par contre, l'énergie totale d'un proton en mouvement est aussi éagale à $\\gamma m_p c^2$. On peut ainsi écrire, \n",
    "\n",
    "\\begin{align}\n",
    "E = \\gamma m_p c^2 &= m_p c^2 + T\\\\\n",
    "\\Rightarrow\\ T &=  m_p c^2 (\\gamma - 1)\n",
    "\\end{align}\n",
    "\n",
    "Bref, en considérant la masse du proton en électron-Volts, on peut réécrire l'énergie cinétique $T$ comme,\n",
    "\n",
    "\\begin{align}\n",
    "T =  m_p (\\gamma - 1)\\ \\ [eV]\n",
    "\\end{align}"
   ]
  },
  {
   "cell_type": "markdown",
   "metadata": {},
   "source": [
    " \n",
    "### Relation entre le facteur de Lorentz $\\gamma$ et la vitesse réduite $\\beta$  \n",
    "\n",
    "Sachant que $\\gamma$ et $\\beta$ sont définit comme,"
   ]
  },
  {
   "cell_type": "markdown",
   "metadata": {},
   "source": [
    "\\begin{align}\n",
    "\\gamma = \\frac{1}{\\sqrt{1-v^2/c^2}}, \\ \\ \\beta = \\frac{v}{c}\n",
    "\\end{align}"
   ]
  },
  {
   "cell_type": "markdown",
   "metadata": {},
   "source": [
    "leur relation s'exprime comme"
   ]
  },
  {
   "cell_type": "markdown",
   "metadata": {},
   "source": [
    "\\begin{align}\n",
    "\\Rightarrow\\ \\gamma = \\frac{1}{\\sqrt{1-\\beta^2}}, \\ \\ \\beta = \\sqrt{\\frac{\\gamma^2 - 1}{\\gamma^2}}\n",
    "\\end{align}"
   ]
  },
  {
   "cell_type": "markdown",
   "metadata": {},
   "source": [
    "## 2. \n",
    "Dimensionnellement, la densité électronique s'exprime comme le nombre d'électrons contenu par unité de volume, i.e. \n",
    "\n",
    "\\begin{align}\n",
    "n_e = \\left[\\frac{\\text{Nombre d'électrons}}{cm^3}\\right]\n",
    "\\end{align}\n",
    "\n",
    "La masse atomique est égale au nombre de nucléons présents dans l'atome. Par exemple, la masse molaire de l'eau se calcule comme suit,\n",
    "\n",
    "\\begin{align}\n",
    "M_{H_2 O} = 2\\times M_H + M_O = 2\\times 1 + 16 = 18\\ g\\cdot mol^{-1}\n",
    "\\end{align}\n",
    "\n",
    "Ainsi, la masse atomique d'une molécule s'exprime comme la masse de chacun de ses atomes, i.e.\n",
    "\n",
    "\\begin{align}\n",
    "M = \\sum_{i=1}^{k} c_i M_i,\n",
    "\\end{align}\n",
    "\n",
    "où $k$ est le nombre d'atomes, $M_i$ leur masse atomique et $c_i$, le nombre d'atome du même type. De plus, le nombre d'électron présent dans une molécule est égal au nombre total de protons, \n",
    "\n",
    "\\begin{align}\n",
    "\\frac{Nombre\\ d'électron}{molécule} = \\sum_{i=1}^{k} c_i Z_i\n",
    "\\end{align}\n",
    "\n",
    "Bref, par analyse dimensionelle, on peut exprimer la densité électronique comme:\n",
    "\n",
    "\\begin{align}\n",
    "n_e &\\doteq \\left[\\frac{Nombre\\ de\\ molécule}{mol}\\right]\\cdot\\left[\\frac{mol}{g}\\right]\\cdot\\left[\\frac{Nombre\\ d'électron}{molécule}\\right]\\cdot\\left[\\frac{g}{cm^3}\\right] \\\\\n",
    "\\Rightarrow\\ n_e &= N_a \\rho \\frac{\\sum_{i=1}^{k}c_i Z_i}{\\sum_{i=1}^{k}c_i M_i} \\label{dens}\n",
    "\\end{align}\n",
    "\n",
    "On a ainsi que, pour l'eau, avec un nombre d'électrons de 10, un nombre de nucléons de 18 et une densité de 1 $g\\;cm{-3}$, la densité électronique telle que\n",
    "\n",
    "\\begin{align}\n",
    "n_e{_{H_2 O}} = N_a\\cdot (1)\\cdot \\frac{10}{18} = \\frac{5}{9}N_a\\ \\ [g\\;cm^{-2}]\n",
    "\\end{align}\n",
    "\n",
    "Passons maintenant à l'os cortical. Les données fournies par le NIST [METTRE RÉFÉRENCE], ne nous informent pas directement sur le nombre d'atome $c_i$ présent dans la molécule, mais plutôt le ratio de masse entre l'atome et la molécule appelé la fraction par poids ($F_{pp}$). On peut obtenir $c_i$ en inversant la définition de la $F_{pp}$, \n",
    "\n",
    "\\begin{align}\n",
    "F_{pp_i} = \\frac{c_i M_i}{M_{tot}} \\Rightarrow\\ c_i = \\frac{F_{pp_i} M_{tot}}{M_i}\n",
    "\\end{align}\n",
    "\n",
    "En substituant cette définition de $c_i$ dans \\eqref{dens}, on obtient l'expression suivante pour la densité électronique,\n",
    "\n",
    "\\begin{align}\n",
    "n_e = N_a \\rho \\sum_{i=1}^{n} \\frac{F_{pp_i} Z_i}{M_i}\n",
    "\\end{align}\n",
    "\n",
    "Avec les données fournies par le NIST [REF], les masses atomiques des atomes d'intérêt prises sur le tableau périodique des éléments [REF] et la densité de l'os cortical de 1,85 $g/cm^3$, on obtient que la densité électronique de l'os cortical est,\n",
    "\n",
    "\\begin{align}\n",
    "n_e{_{cort}} \\approx 0,96438 N_a\\ \\ [g\\;cm^{-2}]\n",
    "\\end{align}\n",
    "\n",
    "Comme la gamme d'énergie typique utilisée en proton thérapie va de 11 MeV à 220 MeV, il est légitime de négliger les termes de correction du pouvoir d'arrêt collisionnel.\n",
    "\n",
    "\\begin{align}\n",
    "S_{col}(T) = 2\\pi r_e^2 m_e c^2 n_e \\frac{1}{\\beta^2}\\left[\\ln\\left(\\frac{2 m_e c^2 \\beta^2 \\gamma^2 T_e^{max}}{I^2}\\right) - 2\\beta^2\\right]\n",
    "\\end{align}"
   ]
  },
  {
   "cell_type": "code",
   "execution_count": 5,
   "metadata": {
    "collapsed": false
   },
   "outputs": [
    {
     "data": {
      "image/png": "[encoded data removed]",
      "text/plain": [
       "<matplotlib.figure.Figure at 0x7fc64a8>"
      ]
     },
     "metadata": {},
     "output_type": "display_data"
    }
   ],
   "source": [
    "%matplotlib inline\n",
    "\n",
    "# Définition des paramètres utilisés dans les calculs\n",
    "r_e = pc['classical electron radius'][0] * 100  # Conversion de m à cm\n",
    "N_a = pc['Avogadro constant'][0]\n",
    "\n",
    "n_e_eau = 5*N_a/9\n",
    "n_e_cort = 0.96438*N_a\n",
    "\n",
    "I_eau = 75e-6\n",
    "I_cort = 106.4e-6 \n",
    " \n",
    "rho_cort = 1.85\n",
    "\n",
    "\n",
    "def get_gamma(T, m_p=938.272):\n",
    "    return T/m_p + 1\n",
    "\n",
    "def get_beta(gamma):\n",
    "    return np.sqrt((gamma**2 - 1)/gamma**2)\n",
    "\n",
    "def get_Te_max(gamma, m_e=0.511, m_p=938.272):\n",
    "    return (2*m_e*(gamma**2 - 1)/(1 + 2*gamma*m_e/m_p + (m_e/m_p)**2))\n",
    "\n",
    "def get_s_col(r_e, n_e, T, I, m_e=0.511):\n",
    "    \n",
    "    \"\"\" Retourne le pouvoir d'arrêt collisonnel d'un matériau\n",
    "    \n",
    "    :params:---------------Description---------------: Unités :\n",
    "           \n",
    "        r_e: Rayon électronique                          cm\n",
    "        n_e: Densité électronique du matériau          cm^{-3}\n",
    "       beta: Facteur de vitesse réduite                  -\n",
    "      gamma: Facteur de Lorentz                          -\n",
    "          T: Énergie du proton                           MeV\n",
    "     Te_max: Énergie maximale transférable p+ -> e-      MeV\n",
    "          I: Énergie moyenne d'excitation du matériau    MeV\n",
    "        m_e: Masse de l'électron                         MeV\n",
    "    \"\"\"\n",
    "    \n",
    "    gamma = get_gamma(T)\n",
    "    beta = get_beta(gamma)\n",
    "    Te_max = get_Te_max(gamma)\n",
    "    \n",
    "    return 2*np.pi*r_e**2*m_e*n_e*beta**(-2)*(np.log((2*m_e*beta**2*gamma**2*Te_max)/(I**2)) - 2*beta**2)\n",
    "\n",
    "T = np.linspace(3, 10000, 100000)\n",
    "\n",
    "s_col_eau = get_s_col(r_e, n_e_eau, T, I_eau)\n",
    "\n",
    "s_col_cort = get_s_col(r_e, n_e_cort, T, I_cort)\n",
    "\n",
    "p_col_cort = s_col_cort/rho_cort\n",
    "\n",
    "plt.plot(T, s_col_eau, label=r\"Eau,            $\\rho = 1,00\\ g/cm^3$\")\n",
    "plt.plot(T, p_col_cort, label=r\"Os cortical, $\\rho = 1,85\\ g/cm^3$\")\n",
    "plt.xscale('log')\n",
    "plt.grid('True', which='Major')\n",
    "plt.grid('True', which='Minor', ls='--', linewidth=0.6)\n",
    "plt.xlabel(r'Énergie du proton $[MeV]$')\n",
    "plt.ylabel(r\"$S_{col}\\;/\\rho\\quad[MeV\\cdot cm^2/g]$\")\n",
    "plt.xlim([3,250])\n",
    "plt.legend()\n",
    "plt.show()"
   ]
  },
  {
   "cell_type": "markdown",
   "metadata": {},
   "source": [
    "Avec la figure ci-haut, on remarque que plus l'énergie du proton augmente, plus l'approximation de l'os cortical comme étant de l'eau est valide à cause de la diminution de l'écart de pouvoir d'arrêt collisionnel, celui-ci passant d'environ $20\\ MeV\\cdot cm^2/g$ à moins de $1\\ MeV\\cdot cm^2/g$."
   ]
  },
  {
   "cell_type": "markdown",
   "metadata": {},
   "source": [
    "## 3.\n",
    "\n",
    "l'approximation CSDA considère qu'un proton pénétrant la matière subit une décélération continue tout au long de son parcours. Suite à cette décélération, le proton se sera forcément arrêté à une distance que l'on appelle la portée par CSDA ($R_{CSDA}$). Cette portée s'exprime mathématiquement comme, \n",
    "\n",
    "\\begin{align}\n",
    "R_{CSDA} = \\int_0^{T_i} \\frac{dT'}{\\frac{S_{col}}{\\rho}} \\label{porte}\n",
    "\\end{align}\n",
    "\n",
    "Mais quelles sont les dimensions de la portée $R_{CSDA}$ ? Pour le trouver, procédons à l'analyse dimensionnelle du côté droit de (\\ref{porte}). D'abord, \n",
    "\n",
    "\\begin{align}\n",
    "\\frac{S_{col}}{\\rho} = -\\left(\\frac{dT}{\\rho dx}\\right) \\doteq \\left[J(kg\\;m^{-3})^{-1}m\\right] = \\left[J\\;kg^{-1}m^2\\right]\n",
    "\\end{align}\n",
    "\n",
    "l'intégrande de (\\ref{porte}) a donc des unités de,\n",
    "\n",
    "\\begin{align}\n",
    "\\frac{dT'}{\\frac{S_{col}}{\\rho}} &\\doteq \\left[J(J\\;kg^{-1}m^2)^{-1}\\right] = \\left[kg\\;m^{-2}\\right]\\\\\n",
    "R_{CSDA} &\\doteq \\left[kg\\;m^{-2}\\right]\n",
    "\\end{align}\n",
    "\n",
    "Donc, si on cherche à avoir la portée en mètres dans un matériau quelconque, comme l'eau par exemple, il nous faudra diviser $R_{CSDA}$ par la densité de ce dernier, i.e.\n",
    "\\begin{align}\n",
    "\\frac{R_{CSDA}}{\\rho} \\doteq \\left[m\\right]\n",
    "\\end{align}\n",
    "\n",
    "Bref, comme les valeurs de $\\frac{S_{col}}{\\rho}$ sont souvent fournies dans des tables de données, la portée des protons dans la matière est d'abord définie de façon générale par (\\ref{porte}). On peut ensuite obtenir une portée plus \"\\textit{intuitive}\" du proton en divisant par la densité de la matière d'intérêt."
   ]
  },
  {
   "cell_type": "markdown",
   "metadata": {},
   "source": [
    "## 4. \n",
    "\n",
    "Une particule traversant la matière est soumises à de nombreuses forces. Elle interagira non seulement avec les noyaux atomiques présent dans le matériau en question, mais aussi avec les électrons et si son énergie est assez grande, le rayonnement de freinage entrera en jeu.  Dans notre cas, on approxime la perte d'énergie du proton comme étant linéaire tout au long de son parcours à travers la matière et étant seulement causée par les collisions avec les électrons. Cette approximation est elle juste ? C'est ce que nous allons voir en comparant notre résultat pour le pouvoir d'arrêt collisionnel avec le pouvoir d'arrêt total obtenu des données du PSTAR.\n"
   ]
  },
  {
   "cell_type": "code",
   "execution_count": 6,
   "metadata": {
    "collapsed": false
   },
   "outputs": [
    {
     "data": {
      "image/png": "[encoded data removed]",
      "text/plain": [
       "<matplotlib.figure.Figure at 0x99c6e10>"
      ]
     },
     "metadata": {},
     "output_type": "display_data"
    }
   ],
   "source": [
    "%matplotlib inline\n",
    "\n",
    "data = np.loadtxt('S_col_tot_pstar.txt')\n",
    "\n",
    "T_pstar = data[:, 0]\n",
    "s_tot = data[:, 1]\n",
    "\n",
    "s_col_eau = get_s_col(r_e, n_e_eau, T_pstar, I_eau)\n",
    "\n",
    "ax = plt.subplot(111)\n",
    "plt.plot(T_pstar, s_tot, label=r\"$S_{tot}$\")\n",
    "plt.plot(T_pstar, s_col_eau, label=r\"$S_{col}\\quad$\")\n",
    "plt.xscale('log')\n",
    "plt.yscale('log')\n",
    "plt.xlabel(r'Énergie du proton $[MeV]$')\n",
    "plt.ylabel(r\"$S_{col}\\;/\\rho\\quad[MeV\\cdot cm^2/g]$\")\n",
    "plt.axvline(3, c='k', linewidth=0.6)\n",
    "plt.axvline(250, c='k', linewidth=0.6)\n",
    "plt.text(0.4, 2, r'$ 3\\ MeV$')\n",
    "plt.text(20, 2, r'$ 250\\ MeV$')\n",
    "plt.xlim([1e-2, 1e4])\n",
    "ax.legend(bbox_to_anchor=(0.8, 0.95), loc=2, borderaxespad=0., fancybox=True, shadow=True)\n",
    "plt.show()"
   ]
  },
  {
   "cell_type": "code",
   "execution_count": 16,
   "metadata": {
    "collapsed": false
   },
   "outputs": [
    {
     "name": "stdout",
     "output_type": "stream",
     "text": [
      "63502.169329\n",
      "46284.7644134\n",
      "0.660334547191\n",
      "0.0719238877747\n",
      "0.181319789184\n"
     ]
    }
   ],
   "source": [
    "def get_rms(data1, data2):\n",
    "    rms = np.sqrt(np.mean((data1-data2)**2))\n",
    "    return rms\n",
    "i_small, i_3, i_250, i_1000 = np.where(T_pstar == 1e-1)[0][0], np.where(T_pstar == 3)[0][0],\\\n",
    "                              np.where(T_pstar == 250)[0][0], np.where(T_pstar == 10000)[0][0]\n",
    "\n",
    "rms_min_small = get_rms(s_tot[:i_small+1], s_col_eau[:i_small+1])\n",
    "rms_min_3 = get_rms(s_tot[:i_3+1], s_col_eau[:i_3+1]  )\n",
    "rms_3_250 = get_rms(s_tot[i_3:i_250+1], s_col_eau[i_3:i_250+1])\n",
    "rms_250_1000 = get_rms(s_tot[i_250:i_1000+1], s_col_eau[i_250:i_1000+1])\n",
    "rms_1000_max = get_rms(s_tot[i_1000:], s_col_eau[i_1000:])\n",
    "\n",
    "print(rms_min_small)\n",
    "print(rms_min_3)\n",
    "print(rms_3_250)\n",
    "print(rms_250_1000)\n",
    "print(rms_1000_max)\n",
    "\n",
    "#TODO: faire un tableau"
   ]
  },
  {
   "cell_type": "markdown",
   "metadata": {},
   "source": [
    "À partir de ce graphique et des valeurs RMS calculées, il nous est possible de faire 3 constats principaux: \n",
    "\n",
    "D'abord, on voit que l'approximation linéaire a un écart considérable avec le pouvoir d'arrêt total pour des énergies entre $10^{-2}$ et $3\\ MeV$ avec un RMS dépassant les 46 $GeV\\cdot cm^2/g$. Cela s'explique par le fait que l'interaction entre le proton et les noyaux atomiques, mécanisme dominant pour les faibles énergies, est négligée par notre approximation . Il en résulte ainsi une sous estimation du pouvoir d'arrêt réel. \n",
    "\n",
    "Par la suite pour la plage d'énergie utilisées en protonthérapie, soit entre $3$ et $250\\ MeV$, on remarque autant qualitativement que quantitativement (RMS faible), que l'approximation linéaire modélise bien la réalité, ce qui s'explique par une prédominance du processus collisionnel dans cette gamme d'énergie.\n",
    "\n",
    "Enfin, malgré un RMS faible entre le pouvoir d'arrêt collisionnel et celui total pour les énergies plus grande que $250\\ MeV$, on remarque qualitativement un séparation entre les 2 comportements. Cette séparation a du sens étant donné qu'à de hautes énergies, l'effet Bremsstrahlung sera présent et contribuera ainsi à une augmentation du pouvoir d'arrêt total."
   ]
  },
  {
   "cell_type": "markdown",
   "metadata": {},
   "source": [
    "## 9.\n"
   ]
  },
  {
   "cell_type": "code",
   "execution_count": 30,
   "metadata": {
    "collapsed": false
   },
   "outputs": [
    {
     "data": {
      "image/png": "[encoded data removed]",
      "text/plain": [
       "<matplotlib.figure.Figure at 0x676f5c0>"
      ]
     },
     "metadata": {},
     "output_type": "display_data"
    }
   ],
   "source": [
    "def get_n(N, a, b):\n",
    "    n = []\n",
    "    for b_i in b:\n",
    "\n",
    "        erreur = 1\n",
    "        N = 0\n",
    "        while erreur > 1e-9: # Critère de convergence (10^{-9} cm)\n",
    "            N += 1\n",
    "\n",
    "            res_N = 0\n",
    "            res_2N = 0\n",
    "\n",
    "            x_N, w_N = gaussxwab(N, a, b_i)\n",
    "            x_2N, w_2N = gaussxwab(2*N, a, b_i)\n",
    "\n",
    "\n",
    "            for k in range(N):\n",
    "                res_N += w_N[k]/get_s_col(r_e, n_e_eau, x_N[k], I_eau)\n",
    "\n",
    "            for l in range(2*N):\n",
    "                res_2N += w_2N[l]/get_s_col(r_e, n_e_eau, x_2N[l], I_eau)\n",
    "\n",
    "            erreur = abs(res_N - res_2N)\n",
    "    \n",
    "        n.append(N)\n",
    "        \n",
    "    return n\n",
    "    \n",
    "b= np.arange(3, 251, 1)\n",
    "\n",
    "n = get_n(0, 3, b)\n",
    "\n",
    "plt.plot(b,n)\n",
    "plt.xlabel('Énergie initiale $T_i$ du proton')\n",
    "plt.ylabel('Nombre $N$ de de points')\n",
    "plt.xlim([3,250])\n",
    "plt.show()\n",
    "\n"
   ]
  },
  {
   "cell_type": "code",
   "execution_count": 87,
   "metadata": {
    "collapsed": false,
    "scrolled": true
   },
   "outputs": [
    {
     "name": "stdout",
     "output_type": "stream",
     "text": [
      "Temps requis pour calculer la portée de 10 000 protons :  0.65 secondes\n"
     ]
    }
   ],
   "source": [
    "def translate_xw(x, w, a, b):\n",
    "    return 0.5*(b-a)*x+0.5*(b+a),0.5*(b-a)*w\n",
    "\n",
    "def gauss_quad(a, b, N=31):\n",
    "    res = []\n",
    "    \n",
    "    x, w = gaussxw(N)\n",
    "    \n",
    "    for b_i in b:\n",
    "        #s= 0\n",
    "        x_i, w_i = translate_xw(x, w, a, b_i)\n",
    "        \n",
    "        s = sum(w_i/get_s_col(r_e, n_e_eau, x_i, I_eau))\n",
    "        \n",
    "        #for k in range(N):\n",
    "        #    s+= w_i[k]/get_s_col(r_e, n_e_eau, x_i[k], I_eau)\n",
    "            \n",
    "        res.append(s)\n",
    "        \n",
    "    return res    \n",
    "\n",
    "energie = np.random.normal(240, 3, 10000)\n",
    "\n",
    "start = timer()\n",
    "portee = gauss_quad(3, energie)\n",
    "end = timer()\n",
    "\n",
    "time = np.round(end-start, 2)\n",
    "\n",
    "print(\"Temps requis pour calculer la portée de 10 000 protons : \", time, \"secondes\")"
   ]
  },
  {
   "cell_type": "code",
   "execution_count": 88,
   "metadata": {
    "collapsed": false
   },
   "outputs": [
    {
     "data": {
      "image/png": "[encoded data removed]",
      "text/plain": [
       "<matplotlib.figure.Figure at 0x6305fd0>"
      ]
     },
     "metadata": {},
     "output_type": "display_data"
    }
   ],
   "source": [
    "plt.hist(portee, bins=100,  alpha = 0.6, edgecolor='steelblue')\n",
    "plt.xlabel('Portée [cm]')\n",
    "plt.ylabel('Nombre de protons [-]')\n",
    "plt.show()"
   ]
  },
  {
   "cell_type": "markdown",
   "metadata": {},
   "source": [
    "## 10."
   ]
  },
  {
   "cell_type": "code",
   "execution_count": 89,
   "metadata": {
    "collapsed": false
   },
   "outputs": [
    {
     "name": "stdout",
     "output_type": "stream",
     "text": [
      "Temps requis pour calculer la portée de 10 000 protons :  0.83 secondes\n"
     ]
    },
    {
     "data": {
      "image/png": "[encoded data removed]",
      "text/plain": [
       "<matplotlib.figure.Figure at 0x81ccb00>"
      ]
     },
     "metadata": {},
     "output_type": "display_data"
    }
   ],
   "source": [
    "def trapz_integration(x, N):\n",
    "    res = []\n",
    "    for x_i in x:\n",
    "        \n",
    "        points = np.linspace(3, x_i, N)\n",
    "        h = points[1]- points[0]\n",
    "    \n",
    "        f = 1/get_s_col(r_e, n_e_eau, points, I_eau)\n",
    "        \n",
    "        s = h*(0.5*f[0] + sum(f[1: -1]) + 0.5*f[-1])\n",
    "        \n",
    "        res.append(s)\n",
    "        \n",
    "    return res\n",
    "\n",
    "start_trapz = timer()\n",
    "\n",
    "portee_trapz = trapz_integration(energie, 10)\n",
    "\n",
    "end_trapz = timer()\n",
    "\n",
    "time_trapz = np.round(end_trapz - start_trapz, 2)\n",
    "\n",
    "print(\"Temps requis pour calculer la portée de 10 000 protons : \", time_trapz, \"secondes\")\n",
    "\n",
    "plt.hist(portee_trapz, bins=100, alpha = 0.6, edgecolor='steelblue')\n",
    "plt.xlabel('Portée [cm]')\n",
    "plt.ylabel('Nombre de protons [-]')\n",
    "plt.show()"
   ]
  },
  {
   "cell_type": "markdown",
   "metadata": {},
   "source": [
    "## 11."
   ]
  },
  {
   "cell_type": "code",
   "execution_count": 106,
   "metadata": {
    "collapsed": false
   },
   "outputs": [
    {
     "name": "stdout",
     "output_type": "stream",
     "text": [
      "Temps requis pour calculer la portée de 10 000 protons :  12.85 secondes\n"
     ]
    },
    {
     "data": {
      "image/png": "[encoded data removed]",
      "text/plain": [
       "<matplotlib.figure.Figure at 0x6305198>"
      ]
     },
     "metadata": {},
     "output_type": "display_data"
    }
   ],
   "source": [
    "def scipy_integration(x):\n",
    "    res = []\n",
    "    for x_i in x:\n",
    "        s = integrate.quad(lambda T: 1/get_s_col(r_e, n_e_eau, T, I_eau), 3, x_i)[0]\n",
    "        res.append(s)\n",
    "    \n",
    "    return res\n",
    "\n",
    "start_sc = timer()\n",
    "\n",
    "portee_scipy = scipy_integration(energie)\n",
    "\n",
    "end_sc = timer()\n",
    "\n",
    "time_sc = np.round(end_sc - start_sc, 2)\n",
    "\n",
    "print(\"Temps requis pour calculer la portée de 10 000 protons : \", time_sc, \"secondes\")\n",
    "\n",
    "\n",
    "plt.hist(portee_scipy, bins=100, alpha = 0.6, edgecolor='steelblue')\n",
    "plt.xlabel('Portée [cm]')\n",
    "plt.ylabel('Nombre de protons [-]')\n",
    "plt.show()"
   ]
  },
  {
   "cell_type": "markdown",
   "metadata": {},
   "source": [
    "# References\n",
    "\n",
    "(<a id=\"cit-newhauser2015physics\" href=\"#call-newhauser2015physics\">Newhauser and Zhang, 2015</a>) Newhauser Wayne D and Zhang Rui, ``_The physics of proton therapy_'', Physics in Medicine & Biology, vol. 60, number 8, pp. R155,  2015.\n",
    "\n"
   ]
  },
  {
   "cell_type": "code",
   "execution_count": null,
   "metadata": {
    "collapsed": true
   },
   "outputs": [],
   "source": []
  }
 ],
 "metadata": {
  "kernelspec": {
   "display_name": "Python 3",
   "language": "python",
   "name": "python3"
  },
  "language_info": {
   "codemirror_mode": {
    "name": "ipython",
    "version": 3
   },
   "file_extension": ".py",
   "mimetype": "text/x-python",
   "name": "python",
   "nbconvert_exporter": "python",
   "pygments_lexer": "ipython3",
   "version": "3.5.3"
  },
  "latex_envs": {
   "LaTeX_envs_menu_present": true,
   "autoclose": true,
   "autocomplete": false,
   "bibliofile": "TP1.bib",
   "cite_by": "apalike",
   "current_citInitial": 1,
   "eqLabelWithNumbers": true,
   "eqNumInitial": 1,
   "hotkeys": {
    "equation": "Ctrl-E",
    "itemize": "Ctrl-I"
   },
   "labels_anchors": false,
   "latex_user_defs": false,
   "report_style_numbering": false,
   "user_envs_cfg": false
  }
 },
 "nbformat": 4,
 "nbformat_minor": 1
}
