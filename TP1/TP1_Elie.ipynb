{
 "cells": [
  {
   "cell_type": "code",
   "execution_count": 1,
   "metadata": {
    "collapsed": true
   },
   "outputs": [],
   "source": [
    "from IPython.display import Latex\n",
    "import numpy as np\n",
    "import matplotlib.pyplot as plt\n",
    "from scipy.constants import physical_constants as pc\n",
    "from gaussxw import gaussxwab"
   ]
  },
  {
   "cell_type": "markdown",
   "metadata": {
    "collapsed": true
   },
   "source": [
    "# TP1 : Parcours des protons dans la matière\n",
    "\n",
    "## 1.\n",
    "\n",
    "   \\cite{newhauser2015physics} nous informe que l'énergie cinétique des protons utilisés en protonthérapie varie entre 11 et 220 MeV, énergies correspondant à des distances de pénétration respectives de 1mm et 30 cm. Cette dernière étant la plus creuse que nous pouvons atteindre, on en déduit que l'énergie maximale typiquement utilisée est 220 MeV. Malgré le fait que l'énergie maximale typique est de 220 MeV, \\cite{newhauser2015physics} mentionne aussi qu'elle peut atteindre 250 MeV dans certains cas."
   ]
  },
  {
   "cell_type": "markdown",
   "metadata": {},
   "source": [
    "### Relation entre le facteur de Lorentz $\\gamma$ et l'énergie du proton $T$\n",
    "l'énergie totale d'un proton est la somme de son énergie de masse au repos et de son énergie cinétique tel que,\n",
    "\n",
    "\\begin{align}\n",
    "E = m_p c^2 + T\n",
    "\\end{align}\n",
    "\n",
    "Par contre, l'énergie totale d'un proton en mouvement est aussi éagale à $\\gamma m_p c^2$. On peut ainsi écrire, \n",
    "\n",
    "\\begin{align}\n",
    "E = \\gamma m_p c^2 &= m_p c^2 + T\\\\\n",
    "\\Rightarrow\\ T &=  m_p c^2 (\\gamma - 1)\n",
    "\\end{align}\n",
    "\n",
    "Bref, en considérant la masse du proton en électron-Volts, on peut réécrire l'énergie cinétique $T$ comme,\n",
    "\n",
    "\\begin{align}\n",
    "T =  m_p (\\gamma - 1)\\ \\ [eV]\n",
    "\\end{align}"
   ]
  },
  {
   "cell_type": "markdown",
   "metadata": {},
   "source": [
    " \n",
    "### Relation entre le facteur de Lorentz $\\gamma$ et la vitesse réduite $\\beta$  \n",
    "\n",
    "Sachant que $\\gamma$ et $\\beta$ sont définit comme,"
   ]
  },
  {
   "cell_type": "markdown",
   "metadata": {},
   "source": [
    "\\begin{align}\n",
    "\\gamma = \\frac{1}{\\sqrt{1-v^2/c^2}}, \\ \\ \\beta = \\frac{v}{c}\n",
    "\\end{align}"
   ]
  },
  {
   "cell_type": "markdown",
   "metadata": {},
   "source": [
    "leur relation s'exprime comme"
   ]
  },
  {
   "cell_type": "markdown",
   "metadata": {},
   "source": [
    "\\begin{align}\n",
    "\\Rightarrow\\ \\gamma = \\frac{1}{\\sqrt{1-\\beta^2}}, \\ \\ \\beta = \\sqrt{\\frac{\\gamma^2 - 1}{\\gamma^2}}\n",
    "\\end{align}"
   ]
  },
  {
   "cell_type": "markdown",
   "metadata": {},
   "source": [
    "## 2. \n",
    "Dimensionnellement, la densité électronique s'exprime comme le nombre d'électrons contenu par unité de volume, i.e. \n",
    "\n",
    "\\begin{align}\n",
    "n_e = \\left[\\frac{\\text{Nombre d'électrons}}{cm^3}\\right]\n",
    "\\end{align}\n",
    "\n",
    "La masse atomique est égale au nombre de nucléons présents dans l'atome. Par exemple, la masse molaire de l'eau se calcule comme suit,\n",
    "\n",
    "\\begin{align}\n",
    "M_{H_2 O} = 2\\times M_H + M_O = 2\\times 1 + 16 = 18\\ g\\cdot mol^{-1}\n",
    "\\end{align}\n",
    "\n",
    "Ainsi, la masse atomique d'une molécule s'exprime comme la masse de chacun de ses atomes, i.e.\n",
    "\n",
    "\\begin{align}\n",
    "M = \\sum_{i=1}^{k} c_i M_i,\n",
    "\\end{align}\n",
    "\n",
    "où $k$ est le nombre d'atomes, $M_i$ leur masse atomique et $c_i$, le nombre d'atome du même type. De plus, le nombre d'électron présent dans une molécule est égal au nombre total de protons, \n",
    "\n",
    "\\begin{align}\n",
    "\\frac{Nombre\\ d'électron}{molécule} = \\sum_{i=1}^{k} c_i Z_i\n",
    "\\end{align}\n",
    "\n",
    "Bref, par analyse dimensionelle, on peut exprimer la densité électronique comme:\n",
    "\n",
    "\\begin{align}\n",
    "n_e &\\doteq \\left[\\frac{Nombre\\ de\\ molécule}{mol}\\right]\\cdot\\left[\\frac{mol}{g}\\right]\\cdot\\left[\\frac{Nombre\\ d'électron}{molécule}\\right]\\cdot\\left[\\frac{g}{cm^3}\\right] \\\\\n",
    "\\Rightarrow\\ n_e &= N_a \\rho \\frac{\\sum_{i=1}^{k}c_i Z_i}{\\sum_{i=1}^{k}c_i M_i} \\label{dens}\n",
    "\\end{align}\n",
    "\n",
    "On a ainsi que, pour l'eau, avec un nombre d'électrons de 10, un nombre de nucléons de 18 et une densité de 1 $g\\;cm{-3}$, la densité électronique telle que\n",
    "\n",
    "\\begin{align}\n",
    "n_e{_{H_2 O}} = N_a\\cdot (1)\\cdot \\frac{10}{18} = \\frac{5}{9}N_a\\ \\ [g\\;cm^{-2}]\n",
    "\\end{align}\n",
    "\n",
    "Passons maintenant à l'os cortical. Les données fournies par le NIST [METTRE RÉFÉRENCE], ne nous informent pas directement sur le nombre d'atome $c_i$ présent dans la molécule, mais plutôt le ratio de masse entre l'atome et la molécule appelé la fraction par poids ($F_{pp}$). On peut obtenir $c_i$ en inversant la définition de la $F_{pp}$, \n",
    "\n",
    "\\begin{align}\n",
    "F_{pp_i} = \\frac{c_i M_i}{M_{tot}} \\Rightarrow\\ c_i = \\frac{F_{pp_i} M_{tot}}{M_i}\n",
    "\\end{align}\n",
    "\n",
    "En substituant cette définition de $c_i$ dans \\eqref{dens}, on obtient l'expression suivante pour la densité électronique,\n",
    "\n",
    "\\begin{align}\n",
    "n_e = N_a \\rho \\sum_{i=1}^{n} \\frac{F_{pp_i} Z_i}{M_i}\n",
    "\\end{align}\n",
    "\n",
    "Avec les données fournies par le NIST [REF], les masses atomiques des atomes d'intérêt prises sur le tableau périodique des éléments [REF] et la densité de l'os cortical de 1,85 $g/cm^3$, on obtient que la densité électronique de l'os cortical est,\n",
    "\n",
    "\\begin{align}\n",
    "n_e{_{cort}} \\approx 0,96438 N_a\\ \\ [g\\;cm^{-2}]\n",
    "\\end{align}\n",
    "\n",
    "Comme la gamme d'énergie typique utilisée en proton thérapie va de 11 MeV à 220 MeV, il est légitime de négliger les termes de correction du pouvoir d'arrêt collisionnel.\n",
    "\n",
    "\\begin{align}\n",
    "S_{col}(T) = 2\\pi r_e^2 m_e c^2 n_e \\frac{1}{\\beta^2}\\left[\\ln\\left(\\frac{2 m_e c^2 \\beta^2 \\gamma^2 T_e^{max}}{I^2}\\right) - 2\\beta^2\\right]\n",
    "\\end{align}"
   ]
  },
  {
   "cell_type": "code",
   "execution_count": 2,
   "metadata": {},
   "outputs": [
    {
     "data": {
      "image/png": "[encoded data removed]",
      "text/plain": [
       "<matplotlib.figure.Figure at 0x231e7d70ba8>"
      ]
     },
     "metadata": {},
     "output_type": "display_data"
    }
   ],
   "source": [
    "N_a = 6.0221409e+23\n",
    "n_e_eau = 5*N_a/9\n",
    "n_e_cort = 0.96438*N_a\n",
    "\n",
    "I_eau = 75e-6\n",
    "I_cort = 106.4e-6 \n",
    "\n",
    "r_e = pc['classical electron radius'][0] * 100  # Conversion de m à cm\n",
    "N_a = pc['Avogadro constant'][0]\n",
    "\n",
    "def get_gamma(T, m_p=938.272):\n",
    "    return T/m_p + 1\n",
    "\n",
    "def get_beta(gamma):\n",
    "    return np.sqrt((gamma**2 - 1)/gamma**2)\n",
    "\n",
    "def get_Te_max(gamma, m_e=0.511, m_p=938.272):\n",
    "    return (2*m_e*(gamma**2 - 1)/(1 + 2*gamma*m_e/m_p + (m_e/m_p)**2))\n",
    "\n",
    "def get_s_col(r_e, n_e, T, I, m_e=0.511):\n",
    "    \n",
    "    \"\"\" Retourne le pouvoir d'arrêt collisonnel d'un matériau\n",
    "    \n",
    "    :params:---------------Description---------------: Unités :\n",
    "           \n",
    "        r_e: Rayon électronique                          cm\n",
    "        n_e: Densité électronique du matériau          cm^{-3}\n",
    "       beta: Facteur de vitesse réduite                  -\n",
    "      gamma: Facteur de Lorentz                          -\n",
    "          T: Énergie du proton                           MeV\n",
    "     Te_max: Énergie maximale transférable p+ -> e-      MeV\n",
    "          I: Énergie moyenne d'excitation du matériau    MeV\n",
    "        m_e: Masse de l'électron                         MeV\n",
    "    \"\"\"\n",
    "    \n",
    "    gamma = get_gamma(T)\n",
    "    beta = get_beta(gamma)\n",
    "    Te_max = get_Te_max(gamma)\n",
    "    \n",
    "    return 2*np.pi*r_e**2*m_e*n_e*beta**(-2)*(np.log((2*m_e*beta**2*gamma**2*Te_max)/(I**2)) - 2*beta**2)\n",
    "\n",
    "T = np.linspace(3, 10000, 100000)\n",
    "\n",
    "s_col_eau = get_s_col(r_e, n_e_eau, T, I_eau)\n",
    "\n",
    "\n",
    "plt.plot(T,s_col_eau)\n",
    "plt.xscale('log')\n",
    "plt.grid('True', which='Major')\n",
    "plt.grid('True', which='Minor', ls='--', linewidth=0.6)\n",
    "plt.xlabel(r'Énergie du proton $[eV]$')\n",
    "plt.ylabel(r\"Pouvoir d'arrêt collisionnel $[MeV/m]$\")\n",
    "plt.show()"
   ]
  },
  {
   "cell_type": "markdown",
   "metadata": {},
   "source": [
    "## 3.\n",
    "\n",
    "l'approximation CSDA considère qu'un proton pénétrant la matière subit une décélération continue tout au long de son parcours. Suite à cette décélération, le proton se sera forcément arrêté à une distance que l'on appelle la portée par CSDA ($R_{CSDA}$). Cette portée s'exprime mathématiquement comme, \n",
    "\n",
    "\\begin{align}\n",
    "R_{CSDA} = \\int_0^{T_i} \\frac{dT'}{\\frac{S_{col}}{\\rho}} \\label{porte}\n",
    "\\end{align}\n",
    "\n",
    "Mais quelles sont les dimensions de la portée $R_{CSDA}$ ? Pour le trouver, procédons à l'analyse dimensionnelle du côté droit de (\\ref{porte}). D'abord, \n",
    "\n",
    "\\begin{align}\n",
    "\\frac{S_{col}}{\\rho} = -\\left(\\frac{dT}{\\rho dx}\\right) \\doteq \\left[J(kg\\;m^{-3})^{-1}m\\right] = \\left[J\\;kg^{-1}m^2\\right]\n",
    "\\end{align}\n",
    "\n",
    "l'intégrande de (\\ref{porte}) a donc des unités de,\n",
    "\n",
    "\\begin{align}\n",
    "\\frac{dT'}{\\frac{S_{col}}{\\rho}} &\\doteq \\left[J(J\\;kg^{-1}m^2)^{-1}\\right] = \\left[kg\\;m^{-2}\\right]\\\\\n",
    "R_{CSDA} &\\doteq \\left[kg\\;m^{-2}\\right]\n",
    "\\end{align}\n",
    "\n",
    "Donc, si on cherche à avoir la portée en mètres dans un matériau quelconque, comme l'eau par exemple, il nous faudra diviser $R_{CSDA}$ par la densité de ce dernier, i.e.\n",
    "\\begin{align}\n",
    "\\frac{R_{CSDA}}{\\rho} \\doteq \\left[m\\right]\n",
    "\\end{align}\n",
    "\n",
    "Bref, comme les valeurs de $\\frac{S_{col}}{\\rho}$ sont souvent fournies dans des tables de données, la portée des protons dans la matière est d'abord définie de façon générale par (\\ref{porte}). On peut ensuite obtenir une portée plus \"\\textit{intuitive}\" du proton en divisant par la densité de la matière d'intérêt."
   ]
  },
  {
   "cell_type": "markdown",
   "metadata": {},
   "source": [
    "## 9.\n"
   ]
  },
  {
   "cell_type": "code",
   "execution_count": 16,
   "metadata": {},
   "outputs": [
    {
     "data": {
      "image/png": "[encoded data removed]",
      "text/plain": [
       "<matplotlib.figure.Figure at 0x231e82f39b0>"
      ]
     },
     "metadata": {},
     "output_type": "display_data"
    }
   ],
   "source": [
    "\n",
    "N, a, b = 0, 3, np.arange(3, 251, 1)\n",
    "\n",
    "\n",
    "n = []\n",
    "for b_i in b:\n",
    "    \n",
    "    erreur = 1\n",
    "    N = 0\n",
    "    while erreur > 1e-9:\n",
    "        N += 1\n",
    "\n",
    "        res_N = 0\n",
    "        res_2N = 0\n",
    "\n",
    "        x_N, w_N = gaussxwab(N, a, b_i)\n",
    "        x_2N, w_2N = gaussxwab(2*N, a, b_i)\n",
    "\n",
    "\n",
    "        for k in range(N):\n",
    "            res_N += w_N[k]/get_s_col(r_e, n_e_eau, x_N[k], I_eau)\n",
    "\n",
    "        for l in range(2*N):\n",
    "            res_2N += w_2N[l]/get_s_col(r_e, n_e_eau, x_2N[l], I_eau)\n",
    "\n",
    "        erreur = abs(res_N - res_2N)\n",
    "    \n",
    "    n.append(N)\n",
    "\n",
    "plt.plot(b,n)\n",
    "plt.xlabel('Énergie initiale $T_i$ du proton')\n",
    "plt.ylabel('Nombre $N$ de de points')\n",
    "plt.show()\n",
    "\n"
   ]
  },
  {
   "cell_type": "markdown",
   "metadata": {},
   "source": [
    "# References\n",
    "\n",
    "(<a id=\"cit-newhauser2015physics\" href=\"#call-newhauser2015physics\">Newhauser and Zhang, 2015</a>) Newhauser Wayne D and Zhang Rui, ``_The physics of proton therapy_'', Physics in Medicine & Biology, vol. 60, number 8, pp. R155,  2015.\n",
    "\n"
   ]
  },
  {
   "cell_type": "code",
   "execution_count": null,
   "metadata": {
    "collapsed": true
   },
   "outputs": [],
   "source": []
  }
 ],
 "metadata": {
  "kernelspec": {
   "display_name": "Python 3",
   "language": "python",
   "name": "python3"
  },
  "language_info": {
   "codemirror_mode": {
    "name": "ipython",
    "version": 3
   },
   "file_extension": ".py",
   "mimetype": "text/x-python",
   "name": "python",
   "nbconvert_exporter": "python",
   "pygments_lexer": "ipython3",
   "version": "3.6.3"
  },
  "latex_envs": {
   "LaTeX_envs_menu_present": true,
   "autoclose": true,
   "autocomplete": false,
   "bibliofile": "TP1.bib",
   "cite_by": "apalike",
   "current_citInitial": 1,
   "eqLabelWithNumbers": true,
   "eqNumInitial": 1,
   "hotkeys": {
    "equation": "Ctrl-E",
    "itemize": "Ctrl-I"
   },
   "labels_anchors": false,
   "latex_user_defs": false,
   "report_style_numbering": false,
   "user_envs_cfg": false
  }
 },
 "nbformat": 4,
 "nbformat_minor": 1
}
