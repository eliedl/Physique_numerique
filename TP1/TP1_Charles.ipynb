{
 "cells": [
  {
   "cell_type": "code",
   "execution_count": 1,
   "metadata": {
    "collapsed": true
   },
   "outputs": [],
   "source": [
    "from IPython.display import Latex"
   ]
  },
  {
   "cell_type": "markdown",
   "metadata": {
    "collapsed": true
   },
   "source": [
    "# TP1 : Parcours des protons dans la matière\n",
    "\n",
    "## 1.\n",
    "\n",
    "   [METTRE RÉFÉRENCE] nous informe que l'énergie cinétique des protons utilisés en protonthérapie varie entre 11 et 220 MeV, énergies correspondant à des distances de pénétration respectives de 1mm et 30 cm. Cette dernière étant la plus creuse que nous pouvons atteindre, on en déduit que l'énergie maximale typiquement utilisée est 220 MeV. "
   ]
  },
  {
   "cell_type": "markdown",
   "metadata": {},
   "source": [
    "### Relation entre le facteur de Lorentz $\\gamma$ et l'énergie du proton $T$\n",
    "l'énergie totale d'un proton est la somme de son énergie de masse au repos et de son énergie cinétique tel que,\n",
    "\n",
    "\\begin{align}\n",
    "E = m_p c^2 + T\n",
    "\\end{align}\n",
    "\n",
    "Par contre, l'énergie totale d'un proton en mouvement est aussi éagale à $\\gamma m_p c^2$. On peut ainsi écrire, \n",
    "\n",
    "\\begin{align}\n",
    "E = \\gamma m_p c^2 &= m_p c^2 + T\\\\\n",
    "\\Rightarrow\\ T &=  m_p c^2 (\\gamma - 1)\n",
    "\\end{align}\n",
    "\n",
    "Bref, en considérant la masse du proton en électron-Volts, on peut réécrire l'énergie cinétique $T$ comme,\n",
    "\n",
    "\\begin{align}\n",
    "T =  m_p (\\gamma - 1)\\quad [eV]\n",
    "\\end{align}"
   ]
  },
  {
   "cell_type": "markdown",
   "metadata": {},
   "source": [
    " \n",
    "### Relation entre le facteur de Lorentz $\\gamma$ et la vitesse réduite $\\beta$  \n",
    "\n",
    "Sachant que $\\gamma$ et $\\beta$ sont définit comme,"
   ]
  },
  {
   "cell_type": "markdown",
   "metadata": {},
   "source": [
    "\\begin{align}\n",
    "\\gamma = \\frac{1}{\\sqrt{1-v^2/c^2}}, \\qquad \\beta = \\frac{v}{c}\n",
    "\\end{align}"
   ]
  },
  {
   "cell_type": "markdown",
   "metadata": {},
   "source": [
    "leur relation s'exprime comme"
   ]
  },
  {
   "cell_type": "markdown",
   "metadata": {},
   "source": [
    "\\begin{align}\n",
    "\\Rightarrow\\ \\gamma = \\frac{1}{\\sqrt{1-\\beta^2}}, \\qquad \\beta = \\sqrt{\\frac{\\gamma^2 - 1}{\\gamma^2}}\n",
    "\\end{align}"
   ]
  },
  {
   "cell_type": "markdown",
   "metadata": {},
   "source": [
    "## 2. \n"
   ]
  },
  {
   "cell_type": "markdown",
   "metadata": {},
   "source": []
  },
  {
   "cell_type": "code",
   "execution_count": 4,
   "metadata": {
    "collapsed": true
   },
   "outputs": [],
   "source": [
    "import numpy as np\n",
    "import matplotlib.pyplot as plt\n"
   ]
  },
  {
   "cell_type": "markdown",
   "metadata": {},
   "source": [
    "##5\n",
    "En observant l'expression de la portée des protons, on remarque qu'elle n'est pas intégrable analytiquement, au moins sans faire d'énormes approximations. En effet, elle contient un log d'un polynome dépendant de l'énergie cinétique. La solution est donc simplement d'évaluer l'intégrale numériquement sur des bornes définies."
   ]
  },
  {
   "cell_type": "markdown",
   "metadata": {},
   "source": [
    "##6\n",
    "On entre simplement la formule désirée dans la code si dessous avec les bons noms de constantes et il calculera l'intégrale définie en fonction de l'énergie cinétique en utilisant la méthode des trapèses. L'espression est laissée en sympy jusqu'au dernier moment possible pour permettre la réutilisation du code pour le numéro suivant."
   ]
  },
  {
   "cell_type": "markdown",
   "metadata": {},
   "source": []
  },
  {
   "cell_type": "code",
   "execution_count": 14,
   "metadata": {
    "collapsed": true
   },
   "outputs": [
    {
     "name": "stdout",
     "output_type": "stream",
     "text": [
      "-0.159154943091895*\\beta**2*\\rho/(c**2*m_e*n_e*r_e**2*(2*\\beta**2 - log(4*\\beta**2*\\gamma**2*c**4*m_e**2*m_p**2*(\\gamma**2 - 1)/(I_x**2*(2*\\gamma*m_e*m_p + m_e**2 + m_p**2)))))\n"
     ]
    },
    {
     "name": "stdout",
     "output_type": "stream",
     "text": [
      "Résultat Eau :  -4.89161596174964e+46 - 8.25750950991821e+25*I  Résultat Os Cortical :  -2.6441167360795e+46 - 4.46351865397959e+25*I\n"
     ]
    },
    {
     "ename": "AttributeError",
     "evalue": "'Float' object has no attribute 'rint'",
     "traceback": [
      "\u001b[1;31m---------------------------------------------------------------------------\u001b[0m",
      "\u001b[1;31mTypeError\u001b[0m                                 Traceback (most recent call last)",
      "\u001b[1;32m~\\Anaconda3\\lib\\site-packages\\numpy\\core\\fromnumeric.py\u001b[0m in \u001b[0;36m_wrapfunc\u001b[1;34m(obj, method, *args, **kwds)\u001b[0m\n\u001b[0;32m     56\u001b[0m     \u001b[1;32mtry\u001b[0m\u001b[1;33m:\u001b[0m\u001b[1;33m\u001b[0m\u001b[0m\n\u001b[1;32m---> 57\u001b[1;33m         \u001b[1;32mreturn\u001b[0m \u001b[0mgetattr\u001b[0m\u001b[1;33m(\u001b[0m\u001b[0mobj\u001b[0m\u001b[1;33m,\u001b[0m \u001b[0mmethod\u001b[0m\u001b[1;33m)\u001b[0m\u001b[1;33m(\u001b[0m\u001b[1;33m*\u001b[0m\u001b[0margs\u001b[0m\u001b[1;33m,\u001b[0m \u001b[1;33m**\u001b[0m\u001b[0mkwds\u001b[0m\u001b[1;33m)\u001b[0m\u001b[1;33m\u001b[0m\u001b[0m\n\u001b[0m\u001b[0;32m     58\u001b[0m \u001b[1;33m\u001b[0m\u001b[0m\n",
      "\u001b[1;31mTypeError\u001b[0m: round() got an unexpected keyword argument 'decimals'",
      "\nDuring handling of the above exception, another exception occurred:\n",
      "\u001b[1;31mAttributeError\u001b[0m                            Traceback (most recent call last)",
      "\u001b[1;32m<ipython-input-14-03d3191ba0e9>\u001b[0m in \u001b[0;36m<module>\u001b[1;34m()\u001b[0m\n\u001b[0;32m     56\u001b[0m \u001b[1;32mfor\u001b[0m \u001b[0ma\u001b[0m \u001b[1;32min\u001b[0m \u001b[0msympy\u001b[0m\u001b[1;33m.\u001b[0m\u001b[0mpreorder_traversal\u001b[0m\u001b[1;33m(\u001b[0m\u001b[0mdiff_pouvoir_darret\u001b[0m\u001b[1;33m)\u001b[0m\u001b[1;33m:\u001b[0m\u001b[1;33m\u001b[0m\u001b[0m\n\u001b[0;32m     57\u001b[0m     \u001b[1;32mif\u001b[0m \u001b[0misinstance\u001b[0m\u001b[1;33m(\u001b[0m\u001b[0ma\u001b[0m\u001b[1;33m,\u001b[0m \u001b[0msympy\u001b[0m\u001b[1;33m.\u001b[0m\u001b[0mFloat\u001b[0m\u001b[1;33m)\u001b[0m\u001b[1;33m:\u001b[0m\u001b[1;33m\u001b[0m\u001b[0m\n\u001b[1;32m---> 58\u001b[1;33m         \u001b[0mex2\u001b[0m \u001b[1;33m=\u001b[0m \u001b[0mex2\u001b[0m\u001b[1;33m.\u001b[0m\u001b[0msubs\u001b[0m\u001b[1;33m(\u001b[0m\u001b[0ma\u001b[0m\u001b[1;33m,\u001b[0m \u001b[0mnp\u001b[0m\u001b[1;33m.\u001b[0m\u001b[0mround\u001b[0m\u001b[1;33m(\u001b[0m\u001b[0ma\u001b[0m\u001b[1;33m,\u001b[0m \u001b[1;36m3\u001b[0m\u001b[1;33m)\u001b[0m\u001b[1;33m)\u001b[0m\u001b[1;33m\u001b[0m\u001b[0m\n\u001b[0m\u001b[0;32m     59\u001b[0m \u001b[0mprint\u001b[0m\u001b[1;33m(\u001b[0m\u001b[1;34m\"Différentielle du pouvoir d'arrêt : \"\u001b[0m\u001b[1;33m,\u001b[0m \u001b[0msympy\u001b[0m\u001b[1;33m.\u001b[0m\u001b[0mlatex\u001b[0m\u001b[1;33m(\u001b[0m\u001b[0msympy\u001b[0m\u001b[1;33m.\u001b[0m\u001b[0msimplify\u001b[0m\u001b[1;33m(\u001b[0m\u001b[0mex2\u001b[0m\u001b[1;33m)\u001b[0m\u001b[1;33m)\u001b[0m\u001b[1;33m)\u001b[0m\u001b[1;33m\u001b[0m\u001b[0m\n",
      "\u001b[1;32m~\\Anaconda3\\lib\\site-packages\\numpy\\core\\fromnumeric.py\u001b[0m in \u001b[0;36mround_\u001b[1;34m(a, decimals, out)\u001b[0m\n\u001b[0;32m   2801\u001b[0m \u001b[1;33m\u001b[0m\u001b[0m\n\u001b[0;32m   2802\u001b[0m     \"\"\"\n\u001b[1;32m-> 2803\u001b[1;33m     \u001b[1;32mreturn\u001b[0m \u001b[0maround\u001b[0m\u001b[1;33m(\u001b[0m\u001b[0ma\u001b[0m\u001b[1;33m,\u001b[0m \u001b[0mdecimals\u001b[0m\u001b[1;33m=\u001b[0m\u001b[0mdecimals\u001b[0m\u001b[1;33m,\u001b[0m \u001b[0mout\u001b[0m\u001b[1;33m=\u001b[0m\u001b[0mout\u001b[0m\u001b[1;33m)\u001b[0m\u001b[1;33m\u001b[0m\u001b[0m\n\u001b[0m\u001b[0;32m   2804\u001b[0m \u001b[1;33m\u001b[0m\u001b[0m\n\u001b[0;32m   2805\u001b[0m \u001b[1;33m\u001b[0m\u001b[0m\n",
      "\u001b[1;32m~\\Anaconda3\\lib\\site-packages\\numpy\\core\\fromnumeric.py\u001b[0m in \u001b[0;36maround\u001b[1;34m(a, decimals, out)\u001b[0m\n\u001b[0;32m   2787\u001b[0m \u001b[1;33m\u001b[0m\u001b[0m\n\u001b[0;32m   2788\u001b[0m     \"\"\"\n\u001b[1;32m-> 2789\u001b[1;33m     \u001b[1;32mreturn\u001b[0m \u001b[0m_wrapfunc\u001b[0m\u001b[1;33m(\u001b[0m\u001b[0ma\u001b[0m\u001b[1;33m,\u001b[0m \u001b[1;34m'round'\u001b[0m\u001b[1;33m,\u001b[0m \u001b[0mdecimals\u001b[0m\u001b[1;33m=\u001b[0m\u001b[0mdecimals\u001b[0m\u001b[1;33m,\u001b[0m \u001b[0mout\u001b[0m\u001b[1;33m=\u001b[0m\u001b[0mout\u001b[0m\u001b[1;33m)\u001b[0m\u001b[1;33m\u001b[0m\u001b[0m\n\u001b[0m\u001b[0;32m   2790\u001b[0m \u001b[1;33m\u001b[0m\u001b[0m\n\u001b[0;32m   2791\u001b[0m \u001b[1;33m\u001b[0m\u001b[0m\n",
      "\u001b[1;32m~\\Anaconda3\\lib\\site-packages\\numpy\\core\\fromnumeric.py\u001b[0m in \u001b[0;36m_wrapfunc\u001b[1;34m(obj, method, *args, **kwds)\u001b[0m\n\u001b[0;32m     65\u001b[0m     \u001b[1;31m# a downstream library like 'pandas'.\u001b[0m\u001b[1;33m\u001b[0m\u001b[1;33m\u001b[0m\u001b[0m\n\u001b[0;32m     66\u001b[0m     \u001b[1;32mexcept\u001b[0m \u001b[1;33m(\u001b[0m\u001b[0mAttributeError\u001b[0m\u001b[1;33m,\u001b[0m \u001b[0mTypeError\u001b[0m\u001b[1;33m)\u001b[0m\u001b[1;33m:\u001b[0m\u001b[1;33m\u001b[0m\u001b[0m\n\u001b[1;32m---> 67\u001b[1;33m         \u001b[1;32mreturn\u001b[0m \u001b[0m_wrapit\u001b[0m\u001b[1;33m(\u001b[0m\u001b[0mobj\u001b[0m\u001b[1;33m,\u001b[0m \u001b[0mmethod\u001b[0m\u001b[1;33m,\u001b[0m \u001b[1;33m*\u001b[0m\u001b[0margs\u001b[0m\u001b[1;33m,\u001b[0m \u001b[1;33m**\u001b[0m\u001b[0mkwds\u001b[0m\u001b[1;33m)\u001b[0m\u001b[1;33m\u001b[0m\u001b[0m\n\u001b[0m\u001b[0;32m     68\u001b[0m \u001b[1;33m\u001b[0m\u001b[0m\n\u001b[0;32m     69\u001b[0m \u001b[1;33m\u001b[0m\u001b[0m\n",
      "\u001b[1;32m~\\Anaconda3\\lib\\site-packages\\numpy\\core\\fromnumeric.py\u001b[0m in \u001b[0;36m_wrapit\u001b[1;34m(obj, method, *args, **kwds)\u001b[0m\n\u001b[0;32m     45\u001b[0m     \u001b[1;32mexcept\u001b[0m \u001b[0mAttributeError\u001b[0m\u001b[1;33m:\u001b[0m\u001b[1;33m\u001b[0m\u001b[0m\n\u001b[0;32m     46\u001b[0m         \u001b[0mwrap\u001b[0m \u001b[1;33m=\u001b[0m \u001b[1;32mNone\u001b[0m\u001b[1;33m\u001b[0m\u001b[0m\n\u001b[1;32m---> 47\u001b[1;33m     \u001b[0mresult\u001b[0m \u001b[1;33m=\u001b[0m \u001b[0mgetattr\u001b[0m\u001b[1;33m(\u001b[0m\u001b[0masarray\u001b[0m\u001b[1;33m(\u001b[0m\u001b[0mobj\u001b[0m\u001b[1;33m)\u001b[0m\u001b[1;33m,\u001b[0m \u001b[0mmethod\u001b[0m\u001b[1;33m)\u001b[0m\u001b[1;33m(\u001b[0m\u001b[1;33m*\u001b[0m\u001b[0margs\u001b[0m\u001b[1;33m,\u001b[0m \u001b[1;33m**\u001b[0m\u001b[0mkwds\u001b[0m\u001b[1;33m)\u001b[0m\u001b[1;33m\u001b[0m\u001b[0m\n\u001b[0m\u001b[0;32m     48\u001b[0m     \u001b[1;32mif\u001b[0m \u001b[0mwrap\u001b[0m\u001b[1;33m:\u001b[0m\u001b[1;33m\u001b[0m\u001b[0m\n\u001b[0;32m     49\u001b[0m         \u001b[1;32mif\u001b[0m \u001b[1;32mnot\u001b[0m \u001b[0misinstance\u001b[0m\u001b[1;33m(\u001b[0m\u001b[0mresult\u001b[0m\u001b[1;33m,\u001b[0m \u001b[0mmu\u001b[0m\u001b[1;33m.\u001b[0m\u001b[0mndarray\u001b[0m\u001b[1;33m)\u001b[0m\u001b[1;33m:\u001b[0m\u001b[1;33m\u001b[0m\u001b[0m\n",
      "\u001b[1;31mAttributeError\u001b[0m: 'Float' object has no attribute 'rint'"
     ],
     "output_type": "error"
    }
   ],
   "source": [
    "import sympy\n",
    "import numpy as np\n",
    "import scipy.constants as cst\n",
    "import  matplotlib.pyplot as plt\n",
    "\n",
    "re, me, c , ne, bet, gam, I, rho, mp, T = sympy.symbols(\"r_e m_e c n_e \\\\beta \\gamma I_x \\\\rho m_p T\")\n",
    "rayon_electron = 2.8179*10**(-15) #m\n",
    "masse_electron = 9.109 *10**(-31) #kg\n",
    "masse_proton = 1.672649*10**(-27) #kg\n",
    "vitesse_lumiere = 299792458       #m/s\n",
    "energie_excitation = 1\n",
    "\n",
    "vitesse_proton = lambda T: sympy.sqrt(2*T/masse_proton)\n",
    "facteur_de_lorenz_gamma = lambda v : 1/(sympy.sqrt(1-v**2/(c**2)))\n",
    "facteur_de_lorenz_beta = lambda v: v/c\n",
    "Temax = (2*me*c**2*(gam**2-1))/(1 + 2*gam*me/mp + me**2/mp**2)\n",
    "\n",
    "Scol =  2*np.pi*re**2*me*c**2*ne*bet**(-2) *(sympy.log(2*me*c**2*bet**2*gam**2*Temax/I**2) - 2*bet**2)\n",
    "derivRSDCA =  rho/Scol\n",
    "print(derivRSDCA.simplify())\n",
    "xvalues = [i for i in np.arange(3,220)]\n",
    "yvalues = lambda densite, densite_electronique, excitation :  [derivRSDCA\n",
    "                .subs(bet, facteur_de_lorenz_beta(vitesse_proton(i)))\n",
    "                .subs(gam, facteur_de_lorenz_gamma(vitesse_proton(i)))\n",
    "                .subs(re, rayon_electron)\n",
    "                .subs(me, masse_electron)\n",
    "                .subs(c, vitesse_lumiere)\n",
    "                .subs(ne, densite_electronique)\n",
    "                .subs(mp, masse_proton)\n",
    "                .subs(I, excitation)\n",
    "                .subs(rho, densite)\n",
    "           for i in xvalues]\n",
    "\n",
    "yvalues_eau = yvalues(densite=1.85*100**3/1000, excitation= 75,  densite_electronique = 1)\n",
    "yvalues_os_cortical = yvalues(densite=1*100**3/1000, excitation= 106.4,densite_electronique= 1)\n",
    "\n",
    "trapeze = lambda list, interval: interval * (list[0]/2 + np.sum(list[1:-1])+list[-1]/2)\n",
    "\n",
    "\n",
    "\n",
    "#TODO : S'OCCUPER DE LA RÉSOLUTION ET AJOUTER LA DENSITÉ ÉLECTRONIQUE\n",
    "trapeze_eau = trapeze(yvalues_eau, 1)\n",
    "trapeze_os_cortical = trapeze(yvalues_os_cortical, 1)\n",
    "#plt.plot(xvalues, [abs(complex(x).real) for x in yvalues_os_cortical])#,[complex(x).real for x in yvalues_eau])\n",
    "#plt.xscale(\"log\")\n",
    "#plt.yscale(\"log\")\n",
    "#plt.show()\n",
    "print(\"Résultat Eau : \", trapeze_eau, \" Résultat Os Cortical : \", trapeze_os_cortical)\n",
    "\n",
    "diff_pouvoir_darret = sympy.diff(Scol.subs(bet, facteur_de_lorenz_beta(vitesse_proton(T)))\n",
    "                .subs(gam, facteur_de_lorenz_gamma(vitesse_proton(T)))/rho, T)\n",
    "\n",
    "print(\"Différentielle du pouvoir d'arrêt : \", sympy.latex(sympy.simplify(diff_pouvoir_darret)))\n"
   ]
  },
  {
   "cell_type": "code",
   "execution_count": 8,
   "metadata": {},
   "outputs": [],
   "source": [
    "from IPython.display import Latex"
   ]
  },
  {
   "cell_type": "markdown",
   "metadata": {},
   "source": [
    "##7\n",
    "\n",
    "On peut simplement utiliser le code de la section précédente pour calculer la différentielle analytique avec sympy. La différentielle est alors:\n",
    "$\\frac{5.25478181043431 \\cdot 10^{-27} c^{2} m_{e} n_{e} r_{e}^{2}}{T^{2} \\rho \\left(1.19570812525521 \\cdot 10^{27} T - c^{2}\\right)^{8} \\left(m_{e}^{2} \\sqrt{\\frac{1}{c^{2}} \\\\ \\left(- 1.19570812525521 \\cdot 10^{27} T + c^{2}\\right)} + 2 m_{e} m_{p} + m_{p}^{2} \\sqrt{\\frac{1}{c^{2}} \\left(- 1.19570812525521 \\cdot 10^{27} T + c^{2}\\right)}\\right)}$ $ \\left(- 2.39141625051042 \\cdot 10^{27} T \\left(1.19570812525521 \\cdot 10^{27} T - c^{2}\\right)^{8} \\left(m_{e}^{2} \\sqrt{\\frac{1}{c^{2}} \\left(- 1.19570812525521 \\cdot 10^{27} T + c^{2}\\right)} + 2 m_{e} m_{p} + m_{p}^{2} \\sqrt{\\frac{1}{c^{2}} \\left(- 1.19570812525521 \\cdot 10^{27} T + c^{2}\\right)}\\right) - 2.09081125 \\cdot 10^{-28} c^{2} \\left(1.0 T - 8.363245 \\cdot 10^{-28} c^{2}\\right) \\left(- 6.83810133890052 \\cdot 10^{81} T m_{e} m_{p} \\left(- 1.19570812525521 \\cdot 10^{27} T + c^{2}\\right)^{6} - 5.71887168320531 \\cdot 10^{54} \\left(1.19570812525521 \\cdot 10^{27} T - c^{2}\\right)^{7} \\left(m_{e}^{2} \\sqrt{\\frac{1}{c^{2}} \\left(- 1.19570812525521 \\cdot 10^{27} T + c^{2}\\right)} + 2 m_{e} m_{p} + m_{p}^{2} \\sqrt{\\frac{1}{c^{2}} \\left(- 1.19570812525521 \\cdot 10^{27} T + c^{2}\\right)}\\right) + \\left(1.19570812525521 \\cdot 10^{27} T - c^{2}\\right)^{6} \\left(6.83810133890052 \\cdot 10^{81} T + 5.71887168320531 \\cdot 10^{54} c^{2}\\right) \\left(m_{e}^{2} \\sqrt{\\frac{1}{c^{2}} \\left(- 1.19570812525521 \\cdot 10^{27} T + c^{2}\\right)} + 2 m_{e} m_{p} + m_{p}^{2} \\sqrt{\\frac{1}{c^{2}} \\left(- 1.19570812525521 \\cdot 10^{27} T + c^{2}\\right)}\\right)\\right) + \\left(1.19570812525521 \\cdot 10^{27} T - c^{2}\\right)^{8} \\left(2.39141625051042 \\cdot 10^{27} T - c^{2} \\left(\\log{\\left (\\frac{T^{2} c^{4} m_{e}^{2} m_{p}^{2} \\sqrt{\\frac{1}{c^{2}} \\left(- 1.19570812525521 \\cdot 10^{27} T + c^{2}\\right)}}{I_{x}^{2} \\left(1.19570812525521 \\cdot 10^{27} T - c^{2}\\right)^{2} \\left(m_{e}^{2} \\sqrt{\\frac{1}{c^{2}} \\left(- 1.19570812525521 \\cdot 10^{27} T + c^{2}\\right)} + 2 m_{e} m_{p} + m_{p}^{2} \\sqrt{\\frac{1}{c^{2}} \\left(- 1.19570812525521 \\cdot 10^{27} T + c^{2}\\right)}\\right)} \\right )} + 126.083366549431\\right)\\right) \\left(m_{e}^{2} \\sqrt{\\frac{1}{c^{2}} \\left(- 1.19570812525521 \\cdot 10^{27} T + c^{2}\\right)} + 2 m_{e} m_{p} + m_{p}^{2} \\sqrt{\\frac{1}{c^{2}} \\left(- 1.19570812525521 \\cdot 10^{27} T + c^{2}\\right)}\\right)\\right)$\n"
   ]
  },
  {
   "cell_type": "code",
   "execution_count": 9,
   "metadata": {},
   "outputs": [],
   "source": []
  },
  {
   "cell_type": "code",
   "execution_count": null,
   "metadata": {},
   "outputs": [],
   "source": []
  }
 ],
 "metadata": {
  "kernelspec": {
   "display_name": "Python 3",
   "language": "python",
   "name": "python3"
  },
  "language_info": {
   "codemirror_mode": {
    "name": "ipython",
    "version": 3
   },
   "file_extension": ".py",
   "mimetype": "text/x-python",
   "name": "python",
   "nbconvert_exporter": "python",
   "pygments_lexer": "ipython3",
   "version": "3.5.3"
  }
 },
 "nbformat": 4,
 "nbformat_minor": 1
}
