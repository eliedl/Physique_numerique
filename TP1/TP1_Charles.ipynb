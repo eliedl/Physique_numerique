{
 "cells": [
  {
   "cell_type": "code",
   "execution_count": 1,
   "metadata": {
    "collapsed": true
   },
   "outputs": [],
   "source": [
    "from IPython.display import Latex"
   ]
  },
  {
   "cell_type": "markdown",
   "metadata": {
    "collapsed": true
   },
   "source": [
    "# TP1 : Parcours des protons dans la matière\n",
    "\n",
    "## 1.\n",
    "\n",
    "   [METTRE RÉFÉRENCE] nous informe que l'énergie cinétique des protons utilisés en protonthérapie varie entre 11 et 220 MeV, énergies correspondant à des distances de pénétration respectives de 1mm et 30 cm. Cette dernière étant la plus creuse que nous pouvons atteindre, on en déduit que l'énergie maximale typiquement utilisée est 220 MeV. "
   ]
  },
  {
   "cell_type": "markdown",
   "metadata": {},
   "source": [
    "### Relation entre le facteur de Lorentz $\\gamma$ et l'énergie du proton $T$\n",
    "l'énergie totale d'un proton est la somme de son énergie de masse au repos et de son énergie cinétique tel que,\n",
    "\n",
    "\\begin{align}\n",
    "E = m_p c^2 + T\n",
    "\\end{align}\n",
    "\n",
    "Par contre, l'énergie totale d'un proton en mouvement est aussi éagale à $\\gamma m_p c^2$. On peut ainsi écrire, \n",
    "\n",
    "\\begin{align}\n",
    "E = \\gamma m_p c^2 &= m_p c^2 + T\\\\\n",
    "\\Rightarrow\\ T &=  m_p c^2 (\\gamma - 1)\n",
    "\\end{align}\n",
    "\n",
    "Bref, en considérant la masse du proton en électron-Volts, on peut réécrire l'énergie cinétique $T$ comme,\n",
    "\n",
    "\\begin{align}\n",
    "T =  m_p (\\gamma - 1)\\quad [eV]\n",
    "\\end{align}"
   ]
  },
  {
   "cell_type": "markdown",
   "metadata": {},
   "source": [
    " \n",
    "### Relation entre le facteur de Lorentz $\\gamma$ et la vitesse réduite $\\beta$  \n",
    "\n",
    "Sachant que $\\gamma$ et $\\beta$ sont définit comme,"
   ]
  },
  {
   "cell_type": "markdown",
   "metadata": {},
   "source": [
    "\\begin{align}\n",
    "\\gamma = \\frac{1}{\\sqrt{1-v^2/c^2}}, \\qquad \\beta = \\frac{v}{c}\n",
    "\\end{align}"
   ]
  },
  {
   "cell_type": "markdown",
   "metadata": {},
   "source": [
    "leur relation s'exprime comme"
   ]
  },
  {
   "cell_type": "markdown",
   "metadata": {},
   "source": [
    "\\begin{align}\n",
    "\\Rightarrow\\ \\gamma = \\frac{1}{\\sqrt{1-\\beta^2}}, \\qquad \\beta = \\sqrt{\\frac{\\gamma^2 - 1}{\\gamma^2}}\n",
    "\\end{align}"
   ]
  },
  {
   "cell_type": "markdown",
   "metadata": {},
   "source": [
    "## 2. \n"
   ]
  },
  {
   "cell_type": "markdown",
   "metadata": {},
   "source": []
  },
  {
   "cell_type": "code",
   "execution_count": 2,
   "metadata": {},
   "outputs": [],
   "source": [
    "import numpy as np\n",
    "import matplotlib.pyplot as plt\n"
   ]
  },
  {
   "cell_type": "markdown",
   "metadata": {},
   "source": [
    "##5\n",
    "Lorsqu'on substitue les $\\gamma$ et les $\\beta$ pour observer la dépendence en énergie cinétique de $\\frac{\\rho}{Scol}$, on arrive à l'expression:\n",
    "$$\\frac{\\rho}{Scol} =  \\frac{\\rho \\left(- m_{p}^{2} + \\left(T + m_{p}\\right)^{2}\\right)}{2 \\pi m_{e} n_{e} r_{e}^{2} \\left(2 m_{p}^{2} + \\left(T + m_{p}\\right)^{2} \\left(\\log{\\left (\\frac{4 m_{e}^{2} \\left(- m_{p}^{2} + \\left(T + m_{p}\\right)^{2}\\right)^{2}}{I_{x}^{2} m_{p}^{2} \\left(m_{e}^{2} + 2 m_{e} \\left(T + m_{p}\\right) + m_{p}^{2}\\right)} \\right )} - 2\\right)\\right)}\n",
    "$$\n",
    "En observant l'expression de la dérivée de la portée des protons, on remarque qu'elle n'est pas intégrable analytiquement, au moins sans faire d'énormes approximations. En effet, elle contient un log d'un polynome dépendant de l'énergie cinétique. La solution est donc simplement d'évaluer l'intégrale numériquement sur des bornes définies."
   ]
  },
  {
   "cell_type": "markdown",
   "metadata": {},
   "source": [
    "##6\n",
    "On entre simplement la formule désirée dans la code si dessous avec les bons noms de constantes et il calculera l'intégrale définie en fonction de l'énergie cinétique en utilisant la méthode des trapèzes. L'expression est laissée en sympy jusqu'au dernier moment possible pour permettre la réutilisation du code pour le numéro suivant."
   ]
  },
  {
   "cell_type": "markdown",
   "metadata": {},
   "source": []
  },
  {
   "cell_type": "code",
   "execution_count": 24,
   "metadata": {},
   "outputs": [
    {
     "name": "stdout",
     "output_type": "stream",
     "text": [
      "RSDCA eau         :  30.5046168919 cm avec 131072 trapezes et 1.014779371644181e-09 d'erreur\n",
      "RSDCA os cortical :  18.4612299766 cm avec 65536 trapezes et 2.510454066850798e-09 d'erreur\n"
     ]
    }
   ],
   "source": [
    "import sympy\n",
    "from sympy import lambdify\n",
    "\n",
    "#symboles sympy\n",
    "re, me, c , ne, bet2, gam, I, rho, mp, T = sympy.symbols(\"r_e m_e c n_e \\\\beta^2 \\gamma I_x \\\\rho m_p T\")\n",
    "\n",
    "#constantes\n",
    "rayon_electron  = 2.8179e-13 #cm\n",
    "masse_electron  = 0.510998                #Mev\n",
    "masse_proton    = 938.272                  #Mev\n",
    "nombre_avogadro = 6.0221409e23     #1/mol\n",
    "\n",
    "#fonctions\n",
    "facteur_de_lorenz_gamma = lambda T : T/mp + 1\n",
    "facteur_de_lorenz_beta_carre =  (1- gam**(-2))\n",
    "Temax = (2*me*(gam**2-1))/(1 + 2*gam*me/mp + me**2/mp**2)\n",
    "Scol =  2*np.pi*re**2*me*ne/bet2 *(sympy.log(2*me*bet2*gam**2*Temax/I**2) - 2*bet2)\n",
    "derivRSDCA =  rho/Scol\n",
    "densite_eau = 1\n",
    "densite_os = 1.85\n",
    "\n",
    "#fonction qui entre les constantes dans l'équation puis simplifie la substitutions des autres variables\n",
    "derivRSDCA_subs = lambda densite, densite_electronique, excitation : (derivRSDCA.subs(\n",
    "                [(bet2, facteur_de_lorenz_beta_carre)\n",
    "                ,(gam, facteur_de_lorenz_gamma(T))\n",
    "                ,(re, rayon_electron)\n",
    "                ,(me, masse_electron)\n",
    "                ,(ne, densite_electronique)\n",
    "                ,(mp, masse_proton)\n",
    "                ,(I, excitation)\n",
    "                ,(rho, densite)])/densite)\n",
    "\n",
    "#méthode des trapezes générale\n",
    "def integral_trapese(fonction, resolution, debut, fin):\n",
    "    trapeze = lambda values, interval: interval * (values[0] / 2 + np.sum(values[1:-1]) + values[-1] / 2)\n",
    "    nombre = 1\n",
    "    prev = 0\n",
    "    output_change = 1337\n",
    "    while True :\n",
    "        condition = abs(output_change) / 3 > resolution\n",
    "        interval = (fin - debut) / nombre\n",
    "        xvalues = [i for i in np.arange(debut, fin + interval, interval)]\n",
    "        yvalues = [fonction(i) for i in xvalues]\n",
    "        integral_result = trapeze(yvalues, interval)\n",
    "        if not condition:\n",
    "            return prev, nombre // 2, output_change\n",
    "        if nombre != 1:\n",
    "            output_change = integral_result - prev\n",
    "        prev = integral_result\n",
    "        nombre *= 2\n",
    "\n",
    "#substitutions des constantes dépendantes du matériau dans l'équation\n",
    "derivRSDCA_eau = lambda energie_cinetique : derivRSDCA_subs(\n",
    "    densite              = 1,            #g/cm**3\n",
    "    excitation           = 75e-6,     #MeV\n",
    "    densite_electronique = 5/9*nombre_avogadro).subs(T, energie_cinetique)\n",
    "\n",
    "derivRSDCA_os_cortical = lambda energie_cinetique : derivRSDCA_subs(\n",
    "    densite              =  1.85,             #g/cm**3\n",
    "    excitation           = 106.4e-6, #MeV\n",
    "    densite_electronique = 0.96*nombre_avogadro).subs(T, energie_cinetique)\n",
    "\n",
    "#changement de sympy à une expression plus rapide à évaluer\n",
    "derivRSDCA_eau = lambdify(T, derivRSDCA_eau(T))\n",
    "derivRSDCA_os_cortical = lambdify(T, derivRSDCA_os_cortical(T))\n",
    "\n",
    "#Calcul des intégrales pour l'eau et l'os cortical\n",
    "RSDCA_eau, nombre_eau, erreur_eau= integral_trapese(\n",
    "    fonction   = derivRSDCA_eau,\n",
    "    resolution = 1e-9,  #cm\n",
    "    debut      = 3,       #MeV\n",
    "    fin        = 220)     #MeV\n",
    "\n",
    "RSDCA_os_cortical, nombre_os_cortical, erreur_os = integral_trapese(\n",
    "    fonction   = derivRSDCA_os_cortical,\n",
    "    resolution = 1e-9, # cm\n",
    "    debut      = 3,      # MeV\n",
    "    fin        = 220)    # MeV\n",
    "\n",
    "print(\"RSDCA eau         : \", RSDCA_eau,\"cm avec {} trapezes et {} d'erreur\".format(nombre_eau, erreur_eau))\n",
    "print(\"RSDCA os cortical : \", RSDCA_os_cortical,\"cm avec {} trapezes et {} d'erreur\".format(nombre_os_cortical, erreur_os))\n"
   ]
  },
  {
   "cell_type": "code",
   "execution_count": 11,
   "metadata": {},
   "outputs": [],
   "source": [
    "from IPython.display import Latex"
   ]
  },
  {
   "cell_type": "markdown",
   "metadata": {},
   "source": []
  },
  {
   "cell_type": "markdown",
   "metadata": {},
   "source": [
    "##7\n",
    "\n",
    "On peut déduire l'expression analytique de la dérivée pouvoir d'arrêt en fonction de T. Nous commençons par faire les substitutions suivantes:\n",
    "\\begin{align}\n",
    "a &=2 m_{e} \\\\ \n",
    " b &=\\frac{m_{e}^{2}}{m_{p}^{2}} + 1 \\\\ \n",
    " c &=\\frac{m_{e}}{m_{p}} \\\\ \n",
    " k &=\\frac{a^2}{I_{x}^{2}} \\\\ \n",
    " U &=2 \\pi n_{e} r_{e}^{2}\n",
    "\\end{align}\n",
    "Dans\n",
    "\\begin{align}\n",
    "\\frac{2 \\pi}{\\beta^2} m_{e} n_{e} r_{e}^{2} \\left(  \\log{\\left (\\frac{2 \\beta^2}{I_{x}^{2}} T_{e_{max}} \\gamma^{2} m_{e} \\right )}- 2 \\beta^2\\right)\n",
    "\\end{align}\n",
    "On obtient :\n",
    "\n",
    "\\begin{align}\n",
    "Scol &= U\\frac{m_e}{\\beta^2} \\left(log \\left( \\frac{\\beta^2 k m_e(\\gamma^2 -1)}{(b + c\\gamma)}\\right) - 2\\beta^2\\right) \\\\\n",
    "&= U\\frac{m_e}{1 - \\gamma^{-2}} \\left(log(km_e) + log(1 - \\gamma^{-2}) + log(\\gamma^2 -1) - log(b + c\\gamma) - 2(1 - \\gamma^{-2})\\right)\n",
    "\\end{align}\n",
    "Qu'on doit dériver par rapport à $\\gamma$. Les dérivés suivantes servent à accélérer le calcul:\n",
    "\\begin{align}\n",
    "\\frac{d}{dx}(1 - x^{-2}) = 2x^{-3}\\\\\n",
    "\\frac{d}{dx}(1 - x^{-2})^{-1} = \\frac{2x}{(x^2 - 1)^2}\n",
    "\\end{align}\n",
    "En faisant alors quelques dérivés simples, on arrive à:\n",
    "\\begin{align}\n",
    "\\frac{d Scol}{d\\gamma} &= U\\frac{2\\gamma m_e}{(\\gamma^2 - 1)^2} \\left(log(km_e) + log(1 - \\gamma^{-2}) + log(\\gamma^2 -1) - log(b + c\\gamma) - 2(1 - \\gamma^{-2})\\right) \\\\\n",
    "&\\ +U\\frac{m_e}{1 - \\gamma^{-2}} \\left(\\frac{2\\gamma^{-3}}{(1 - \\gamma^{-2})} + \\frac{2\\gamma}{(\\gamma^2 -1)} - \\frac{c}{(b + c\\gamma)} - 4\\gamma^{-3}\\right)\n",
    "\\end{align}\n",
    "\n",
    "Par le théorème de dérivation des fonctions composées, on sait que $\\frac{d Scol}{dT} = \\frac{d Scol}{d\\gamma}\\frac{d \\gamma}{dT}$. On trouve alors que:\n",
    "\\begin{align}\n",
    "\\frac{d \\gamma}{dT} = \\frac{d}{dT} \\frac{T}{m_p} + 1 = \\frac{1}{m_p}\n",
    "\\end{align}\n",
    "Le $m_p^{-1}$ va simplement aller se simplifier avec le $m_e$ du début des deux termes pour générer un $c$. On a alors simplement:\n",
    "\\begin{align}\n",
    "\\frac{d Scol}{dT} &= U\\frac{2\\gamma c}{(\\gamma^2 - 1)^2} \\left(log(km_e) + log(1 - \\gamma^{-2}) + log(\\gamma^2 -1) - log(b + c\\gamma) - 2(1 - \\gamma^{-2})\\right) \\\\\n",
    "&\\ +U\\frac{c}{1 - \\gamma^{-2}} \\left(\\frac{2\\gamma^{-3}}{(1 - \\gamma^{-2})} + \\frac{2\\gamma}{(\\gamma^2 -1)} - \\frac{c}{(b + c\\gamma)} - 4\\gamma^{-3}\\right)\n",
    "\\end{align}\n",
    "Qui se simplifie en:\n",
    "\\begin{align}\n",
    "\\frac{d Scol}{dT} &= U\\frac{2\\gamma^{-3} c}{\\beta^4} \\left(log\\left(\\frac{km_e\\beta^2(\\gamma^2-1)}{b + c\\gamma}\\right) - 2\\beta^2\\right) +U\\frac{c}{\\beta^2} \\left(\\frac{2\\gamma^{-3}}{\\beta^2} + \\frac{2\\gamma}{(\\gamma^2 -1)} - \\frac{c}{(b + c\\gamma)} - 4\\gamma^{-3}\\right)\n",
    "\\end{align}\n",
    "\n",
    "Comme on sait que la dérivée analytique existe et est assez simple, on fait confiance à sympy pour la calculer avec justesse, et on trace la dérivée sur le domaine d'intérêt."
   ]
  },
  {
   "cell_type": "code",
   "execution_count": 17,
   "metadata": {},
   "outputs": [
    {
     "data": {
      "image/png": "[encoded data removed]",
      "text/plain": [
       "<matplotlib.figure.Figure at 0xae0d4d6898>"
      ]
     },
     "metadata": {},
     "output_type": "display_data"
    }
   ],
   "source": [
    "import matplotlib.pyplot as plt\n",
    "%matplotlib inline\n",
    "Scol_subs = lambda densite, densite_electronique, excitation : ((Scol).subs(\n",
    "                [(bet2, facteur_de_lorenz_beta_carre)\n",
    "                ,(gam, facteur_de_lorenz_gamma(T))\n",
    "                ,(re, rayon_electron)\n",
    "                ,(me, masse_electron)\n",
    "                ,(ne, densite_electronique)\n",
    "                ,(mp, masse_proton)\n",
    "                ,(I, excitation)\n",
    "                ,(rho, densite)]))\n",
    "\n",
    "derivScol_eau = lambda energie_cinetique : sympy.diff(Scol_subs(\n",
    "    densite              = 1,            #g/cm**3\n",
    "    excitation           = 75e-6,     #MeV\n",
    "    densite_electronique = 5/9*nombre_avogadro),T).subs(T, energie_cinetique)\n",
    "\n",
    "derivScol_os_cortical = lambda energie_cinetique : sympy.diff(Scol_subs(\n",
    "    densite              = 1.85,             #g/cm**3\n",
    "    excitation           = 106.4e-6, #MeV\n",
    "    densite_electronique = 0.96*nombre_avogadro),T).subs(T, energie_cinetique)\n",
    "\n",
    "derivScol_eau = lambdify(T, derivScol_eau(T))\n",
    "derivScol_os_cortical = lambdify(T, derivScol_os_cortical(T))\n",
    "\n",
    "xvalues = [i for i in np.arange(3,220,0.01)]\n",
    "plt.plot(xvalues, [derivScol_eau(i) for i in xvalues], label=r\"Eau,            $\\rho = 1,00\\ g/cm^3$\")\n",
    "plt.plot(xvalues, [derivScol_os_cortical(i) for i in xvalues], label=r\"Os cortical, $\\rho = 1,85\\ g/cm^3$\")\n",
    "plt.xscale('log')\n",
    "plt.grid('True', which='Major')\n",
    "plt.grid('True', which='Minor', ls='--', linewidth=0.6)\n",
    "plt.xlabel(r'Énergie du proton $[MeV]$')\n",
    "plt.ylabel(r\"$\\frac{d}{dT}S_{col}\\;/\\rho\\quad[MeV\\cdot cm^2/g]$\")\n",
    "plt.legend()\n",
    "plt.show()"
   ]
  },
  {
   "cell_type": "markdown",
   "metadata": {},
   "source": [
    "##8\n",
    "\n",
    "Comme nous connaissons la dérivée du pouvoir d'arrêt, il est possible d'évaluer l'erreur d'approximation faite par l'intégration de $f(x)$ entre $a$ et $b$ avec la méthode des trapèzes. En effet, nous savons que:\n",
    "\\begin{align}\n",
    "\\epsilon = \\frac{1}{12}h^2\\left[f'(a) - f'(b) \\right]\n",
    "\\end{align}\n",
    "Par contre, on ne peut pas tout de suite utiliser le résultat du numéro précédent puisque nous intégrons l'inverse du pouvoir d'arrêt. Sa dérivée est alors:\n",
    "\\begin{align}\n",
    "\\frac{d}{dT}\\frac{1}{Scol} = -\\left(Scol\\right)^{-2}\\cdot \\frac{d Scol}{dT}\n",
    "\\end{align}\n",
    "On peut alors maintenant évaluer $\\epsilon$ à l'aide du résultat précédent et trouver que:\n",
    "\n"
   ]
  },
  {
   "cell_type": "code",
   "execution_count": 25,
   "metadata": {},
   "outputs": [
    {
     "name": "stdout",
     "output_type": "stream",
     "text": [
      "\\epsilon eau : 3.382630111050522e-10\n",
      "\\epsilon os : 2.092046229071302e-10\n"
     ]
    }
   ],
   "source": [
    "\n",
    "Scol_eau = lambda energie_cinetique : Scol_subs(\n",
    "    densite              = 1,            #g/cm**3\n",
    "    excitation           = 75e-6,     #MeV\n",
    "    densite_electronique = 5/9*nombre_avogadro).subs(T, energie_cinetique)\n",
    "\n",
    "Scol_os_cortical = lambda energie_cinetique : Scol_subs(\n",
    "    densite              =  1.85,             #g/cm**3\n",
    "    excitation           = 106.4e-6, #MeV\n",
    "    densite_electronique = 0.96*nombre_avogadro).subs(T, energie_cinetique)\n",
    "\n",
    "Scol_eau = lambdify(T, Scol_eau(T))\n",
    "Scol_os_cortical = lambdify(T, Scol_os_cortical(T))\n",
    "\n",
    "xvalues = [i for i in np.arange(3,220+0.01,0.01)]\n",
    "eau_penet = [-Scol_eau(i)**(-2)*derivScol_eau(i) for i in xvalues]\n",
    "os_penet = [-Scol_os_cortical(i)**(-2)*derivScol_os_cortical(i) for i in xvalues]\n",
    "\n",
    "print(\"\\epsilon eau : {}\".format(1/12*((220-3)/131072)**2*(eau_penet[0] - eau_penet[-1])))\n",
    "print(\"\\epsilon os : {}\".format(1/12*((220-3)/131072)**2*(os_penet[0] - os_penet[-1])))\n",
    "\n",
    "\n"
   ]
  },
  {
   "cell_type": "markdown",
   "metadata": {},
   "source": [
    "\\begin{align}\n",
    "\\epsilon_{eau}\\ :\\ 3.382630111050522\\times 10^{-10} cm \\\\\n",
    "\\epsilon_{os}\\ \\ :\\ 2.092046229071302\\times 10^{-10} cm\n",
    "\\end{align}\n",
    "Qui se compare à nos valeurs calculées précédemment, qui sont\n",
    "\\begin{align}\n",
    "Erreur\\ eau\\ :\\ 1.014779371644181\\times 10^{-9} cm  \\\\\n",
    "Erreur\\ os\\ \\ :\\ 2.510454066850798\\times 10^{-9} cm\n",
    "\\end{align}\n",
    "On voit tout de suite que l'erreur d'approximation calculée lors de l'intégration est systématiquement sous son expression analytique.\n",
    "\\\\\n",
    "Ceci est tout à fait logique puisque pour calculer la vraie erreur lors de l'intégration, il faudrait comparer l'ensemble de N trapèzes à un ensemble d'une infinité de trapèzes au lieu de 2N trapèzes. L'ensemble de 2N trapèzes a lui-même une erreur qui n'est pas considérée ici, tout comme 4N, 8N, 16N et ainsi de suite. \n",
    "\\\\\n",
    "Par contre, on remarque qu'on se trouve dans le bon ordre de grandeur, où l'erreur d'arrondissement devient plus grande que l'erreur d'approximation, ce qui rendrait tout calcul subséquant inutile. On pourrait donc dire que notre méthode d'intégration a suffisament convergé."
   ]
  },
  {
   "cell_type": "markdown",
   "metadata": {},
   "source": [
    "##13\n",
    "On sait qu'il est possible de calculer l'énergie déposée pour un pas de déplacement du proton comme :\n",
    "$$ s = \\int_{T_f}^{T_i} \\frac{dT'}{S_{col}}$$\n",
    "On veut alors écrire un algorithme capable de réaliser le transport des protons subissant une décélération\n",
    "continue dans le milieu et tracer le dépôt d’énergie en fonction de la profondeur pour l’eau\n",
    "et l’os pour des proton d’énergie cinétique 100 MeV. \n",
    "\\\\\n",
    "Pour ce faire, il est nécessaire d'engendrer un processus itératif. En effet, on commence avec une énergie de départ, 100MeV, puis on calcule combien d'énergie le proton perd après s'être déplacé d'un certain $\\Delta s$. On prend en note ce $\\Delta T$ et on le soustrait à l'énergie initiale. La nouvelle énergie est alors considérée comme énergie initiale et on reccomence le processus jusqu'à ce que l'énergie tende vers 0."
   ]
  },
  {
   "cell_type": "code",
   "execution_count": 15,
   "metadata": {},
   "outputs": [
    {
     "data": {
      "image/png": "[encoded data removed]",
      "text/plain": [
       "<matplotlib.figure.Figure at 0xae0ddea940>"
      ]
     },
     "metadata": {},
     "output_type": "display_data"
    }
   ],
   "source": [
    "ds = 0.01\n",
    "s_mat =[i for i in np.arange(0, 40, ds)]\n",
    "\n",
    "def depot_energie(fonction, distance, energy = 220, step = 0.1):\n",
    "    begin, end, N = 3, 100, 1000\n",
    "    delta_T_mat = []\n",
    "    for i in distance:\n",
    "        if energy > 3:\n",
    "            delta_T = ds*fonction(energy)\n",
    "            energy -= delta_T\n",
    "            delta_T_mat.append(delta_T)\n",
    "        else: \n",
    "            delta_T_mat.append(0)\n",
    "    return delta_T_mat\n",
    "\n",
    "plt.plot(s_mat, depot_energie(Scol_eau, s_mat, step = ds), label = r\"Eau,            $\\rho = 1,00\\ g/cm^3$\")\n",
    "plt.plot(s_mat, depot_energie(Scol_os_cortical, s_mat, step = ds), label=r\"Os cortical, $\\rho = 1,85\\ g/cm^3$\")\n",
    "plt.grid('True', which='Major')\n",
    "plt.grid('True', which='Minor', ls='--', linewidth=0.6)\n",
    "plt.xlabel(r'Distance parcourue $[cm]$')\n",
    "plt.ylabel(r\"Énergie déposée $[MeV]$\")\n",
    "plt.legend()\n",
    "plt.show()"
   ]
  },
  {
   "cell_type": "markdown",
   "metadata": {},
   "source": [
    "##14\n",
    "\n",
    "Le pic de Bragg, qu'on observe dans le graphique précédent, montre que, lors de la pénétration, le proton va déposer la majorité de son énergie vers la fin de sa trajectoire. \n",
    "\n",
    "\n",
    "Cela permet, en radiothérapie, de traiter une zone précise en profondeur sans trop affecter les tissus entre l'emetteur et la zone à traiter. \n",
    "\n",
    "On note aussi qu'on y trouve même la longueur de pénétration sans avoir à évaluer l'intégrale."
   ]
  },
  {
   "cell_type": "markdown",
   "metadata": {},
   "source": [
    "##15\n",
    "\n",
    "Comme nous voulons positionner le pic de Bragg sur la région à traiter, il suffit de calculer sa position en fonction de l'énergie initiale. Pour ce faire, on utilise la fonction définie au numéro 13 et on trouve son maximum pour toutes les énergies initiales. On se retrouve ainsi avec la position du pic de Bragg en fonction de l'énergie initiale. On calcule ainsi l'énergie nécessaire à avoir le pic de Bragg à 4cm, qui donne :\n",
    "$$ E_{4cm} = 69.36MeV$$\n"
   ]
  },
  {
   "cell_type": "code",
   "execution_count": 23,
   "metadata": {},
   "outputs": [
    {
     "name": "stdout",
     "output_type": "stream",
     "text": [
      "69.39\n"
     ]
    },
    {
     "data": {
      "image/png": "[encoded data removed]",
      "text/plain": [
       "<matplotlib.figure.Figure at 0xae10b3f160>"
      ]
     },
     "metadata": {},
     "output_type": "display_data"
    }
   ],
   "source": [
    "energy_mat = [i for i in np.arange(3, 220, 0.01)]\n",
    "distance_mat = []\n",
    "ds = 0.1\n",
    "s_mat =[i for i in np.arange(0, 35, ds)]\n",
    "for T in energy_mat:\n",
    "    depo_mat = depot_energie(Scol_eau, s_mat, energy = T, step = ds)\n",
    "    distance_mat.append(ds*np.argmax(depo_mat))\n",
    "    \n",
    "plt.plot(energy_mat, distance_mat, label = r\"Eau,$\\rho = 1,00\\ g/cm^3$\")\n",
    "plt.xlabel(r\"Énergie d'émission $[MeV]$\")\n",
    "plt.ylabel(r\"Position pic de Bragg $[cm]$\")\n",
    "plt.legend()\n",
    "\n",
    "prev = 0\n",
    "for i in range(0,len(distance_mat)):\n",
    "    if 4-distance_mat[i] < 0:\n",
    "        index = i - (abs(4-distance_mat[i-1]) > abs(4-distance_mat[i]))\n",
    "        value = energy_mat[index]\n",
    "        break\n",
    "print(value)\n",
    "\n",
    "plt.show()\n"
   ]
  },
  {
   "cell_type": "markdown",
   "metadata": {},
   "source": [
    "##16\n",
    "\n",
    "srx wtf c'Est un peu trop de la physique médicale"
   ]
  },
  {
   "cell_type": "markdown",
   "metadata": {},
   "source": [
    "##17\n",
    "\n",
    "Il va falloir inclure la diffusion de protons dans notre modèle."
   ]
  }
 ],
 "metadata": {
  "kernelspec": {
   "display_name": "Python 3",
   "language": "python",
   "name": "python3"
  },
  "language_info": {
   "codemirror_mode": {
    "name": "ipython",
    "version": 3
   },
   "file_extension": ".py",
   "mimetype": "text/x-python",
   "name": "python",
   "nbconvert_exporter": "python",
   "pygments_lexer": "ipython3",
   "version": "3.6.3"
  }
 },
 "nbformat": 4,
 "nbformat_minor": 1
}
