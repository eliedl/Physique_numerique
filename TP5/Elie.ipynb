{
 "cells": [
  {
   "cell_type": "markdown",
   "metadata": {},
   "source": [
    "## Problème 1\n",
    "\n",
    "En supposant que le corps est fait d'eau pure et suite à la consultation des données XCOM du NIST, nous avon obtenus les coefficients d'atténuation suivant\n",
    "\\begin{align}\n",
    "\\mu_c = 0,1929\\ \\text{cm$^2$/g}, \\ \\ \\ \\ \\mu_{n-c} = 0,1824\\ \\text{cm$^2$/g}.\n",
    "\\end{align}\n",
    "Le premier indique l'atténuation de l'eau à 70 keV dans un contexte de diffusion chérente tandis que le deuxième est lors d'une diffusion non cohérente. On metionne dans [1] que la diffusion est cohérente lorsque l'énergi du rayonnement incident sur la cible est sous l'énergie d'ionisation de l'atome. Ainsi, dans le cas de l'eau, ayant énergie d'ionisation atomique de près de 13 eV [2], un rayonnement de 70 keV résulte en une diffusion non cohérente. \n",
    "\n",
    "L'atténuation de l'intensinté d'un faisceau est donnée par \n",
    "\\begin{align}\n",
    "\\frac{I}{I_0} = exp(-\\int \\mu(x) dx).\n",
    "\\end{align}\n",
    "Or, dans le cas de l'eau, l'atténuation est constante sur le trajet optique. Ainsi, on peut calculer la portion de rayonnement résultante de l'atténuation comme suit\n",
    "\\begin{align}\n",
    "\\frac{I}{I_0} = e^{-\\mu l}\n",
    "\\end{align}\n",
    "\n",
    "Il est à noter que la masse volumique de l'eau étant de 1 g/cm$^3$, nous avons les même grandeurs d'atténuation que ci-haut pour des unités de cm$^{-1}$. \n",
    "\n",
    "Bref, \n",
    "\\begin{align}\n",
    " \\frac{I}{I_0}\\bigg|_{l=5cm} = 0.402, \\ \\ \\ \\ \\frac{I}{I_0}\\bigg|_{l=20cm} = 0.0260\n",
    "\\end{align}"
   ]
  },
  {
   "cell_type": "markdown",
   "metadata": {},
   "source": [
    "## Références\n",
    "[1] Radiopedia, S. Price et al. https://radiopaedia.org/articles/coherent-scattering\n",
    "[2] WebBook de Chimie du NIST https://webbook.nist.gov/cgi/cbook.cgi?ID=C7732185&Mask=20"
   ]
  }
 ],
 "metadata": {
  "kernelspec": {
   "display_name": "Python 3",
   "language": "python",
   "name": "python3"
  },
  "language_info": {
   "codemirror_mode": {
    "name": "ipython",
    "version": 3
   },
   "file_extension": ".py",
   "mimetype": "text/x-python",
   "name": "python",
   "nbconvert_exporter": "python",
   "pygments_lexer": "ipython3",
   "version": "3.6.3"
  },
  "latex_envs": {
   "LaTeX_envs_menu_present": true,
   "autoclose": true,
   "autocomplete": false,
   "bibliofile": "biblio.bib",
   "cite_by": "apalike",
   "current_citInitial": 1,
   "eqLabelWithNumbers": true,
   "eqNumInitial": 1,
   "hotkeys": {
    "equation": "Ctrl-E",
    "itemize": "Ctrl-I"
   },
   "labels_anchors": false,
   "latex_user_defs": false,
   "report_style_numbering": false,
   "user_envs_cfg": false
  }
 },
 "nbformat": 4,
 "nbformat_minor": 2
}
