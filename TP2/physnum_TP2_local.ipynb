{
 "cells": [
  {
   "cell_type": "markdown",
   "metadata": {},
   "source": [
    "a) Démontrez, par induction ou autrement, que les vecteurs $q_i$ sont orthonormaux.\n",
    "\n",
    "Ces vecteurs sont construits comme:\n",
    "$$u_0 = a_0 \n",
    "\\\\ u_1 = a_1 - (q_0\\cdot a_1)q_0  \n",
    "\\\\ u_2 = a_2  - (q_0\\cdot a_2)q_0  - (q_1\\cdot a_2)q_1  \n",
    " \\\\q_0 = \\frac{u_0}{|u_0|}\n",
    " \\\\q_1=\\frac{u_1}{|u_1|}\n",
    " \\\\q_2=\\frac{u_2}{|u_2|}$$\n",
    " \n",
    " on remarque rapidement que les vecteurs $u_i$ sont orthogonaux par contruction. En effet, $u_1$ est simplement la soustraction entre $a_1$ et sa projection sur la direction de $a_0$. La résultante est alors nécessairement orthogonale à $a_0$ et donc $u_0$. Il est est de même pour $u_2$ qu'on force à être orthogonal à $u_1$ et $u_0$ de la même façon.\n",
    " \n",
    " Nous savons donc que les vecteurs $u_i$ sont nécessairement orthogonaux. Comme les $q_i$ sont simplement les vecteurs $u_i$ avec une norme de 1, les vecteurs $q_i$ sont alors nécessairement orthonormés par construction."
   ]
  },
  {
   "cell_type": "markdown",
   "metadata": {},
   "source": [
    "b) En suivant les instructions de l'énoncé du devoir, il est possible de reconstruire les matrices Q et R pour toute matrice d'entrée. En effet, comme Q et R sont simplement composés de $a_i$, $u_i$ et $q_i$, nous utilisons simplement les relations du numéro précédent pour les calculer. Le code suivant commence calculer tous ces vecteurs, puis les insère dans les matrices Q et R de façon appropriée. "
   ]
  },
  {
   "cell_type": "code",
   "execution_count": 1,
   "metadata": {},
   "outputs": [],
   "source": [
    "import numpy as np"
   ]
  },
  {
   "cell_type": "code",
   "execution_count": 2,
   "metadata": {},
   "outputs": [
    {
     "name": "stdout",
     "output_type": "stream",
     "text": [
      "A = \n",
      "[[ 1.  4.  8.  4.]\n",
      " [ 4.  2.  3.  7.]\n",
      " [ 8.  3.  6.  9.]\n",
      " [ 4.  7.  9.  2.]],\n",
      " Q = \n",
      "[[ 0.10153462  0.558463    0.80981107  0.1483773 ]\n",
      " [ 0.40613847 -0.10686638 -0.14147555  0.8964462 ]\n",
      " [ 0.81227693 -0.38092692  0.22995024 -0.37712564]\n",
      " [ 0.40613847  0.72910447 -0.5208777  -0.17928924]],\n",
      " R = \n",
      "[[  9.8488578    6.49821546  10.55960012  11.37187705]\n",
      " [  0.           5.98106979   8.4234836   -0.484346  ]\n",
      " [  0.           0.           2.74586406   3.27671222]\n",
      " [  0.           0.           0.           3.11592335]],\n",
      " QR = \n",
      "[[ 1.  4.  8.  4.]\n",
      " [ 4.  2.  3.  7.]\n",
      " [ 8.  3.  6.  9.]\n",
      " [ 4.  7.  9.  2.]]\n"
     ]
    }
   ],
   "source": [
    "def mat_a_QR(A):\n",
    "\n",
    "    A = A.T\n",
    "    Q_trans = np.copy(A) *0\n",
    "    R_trans = np.copy(A) *0\n",
    "    \n",
    "    u_liste = []\n",
    "    q_liste = []\n",
    "    a_liste = []\n",
    "    \n",
    "    for i in range(len(A)):\n",
    "        ai = np.array(A[i][:])\n",
    "        ui = ai\n",
    "        for j in range(i):\n",
    "            ui = np.subtract(ui, np.dot(q_liste[j], ai)*q_liste[j])\n",
    "        q_liste.append(ui/np.linalg.norm(ui))\n",
    "        u_liste.append(ui)\n",
    "        a_liste.append(ai)\n",
    "    \n",
    "    for i in range(len(A)):\n",
    "        R_trans[i][i] = np.linalg.norm(u_liste[i])\n",
    "        for j in range(i+1,len(A)):\n",
    "            R_trans[i][j] = np.dot(q_liste[i],a_liste[j])\n",
    "\n",
    "    return np.array(q_liste).T, R_trans\n",
    "\n",
    "               \n",
    "A = np.array([[1.0,4.0,8.0,4.0], [4.0,2.0,3.0,7.0],[8.0,3.0,6.0,9.0],[4.0,7.0,9.0,2.0]])\n",
    "Q,R = mat_a_QR(A)\n",
    "print(\"A = \\n{},\\n Q = \\n{},\\n R = \\n{},\\n QR = \\n{}\".format(A,Q,R,np.dot(Q,R)))\n"
   ]
  },
  {
   "cell_type": "markdown",
   "metadata": {},
   "source": [
    "c) Écrire un programme permattant de calculer les vecteurs propres et valeurs propres d'une matrice carrée réelle.\n",
    "\n",
    "Les étapes à suivre pour obtenir les valeurs et vecteurs propres à partir des matrices Q et R sont, selon la page 244 du Newmann,:\n",
    "\\begin{enumerate}\n",
    "\\item Créer V, une matrice NxN, qui contiendra les vecteurs propres et l'initialiser comme étant la matrice identité. On sélectionne aussi un seuil $\\epsilon$ pour plus tard.\n",
    "\\item On calcule la décomposition QR de la matrice A\n",
    "\\item On actualise A à $A = RQ$\n",
    "\\item On multiplie Q à V par la droite\n",
    "\\item On vérifie si les valeurs hors diagonales sont inférieurs à la valeur seuil\n",
    "\\end{enumerate}\n",
    "À la fin de l'algorithme, nous avons effectivement diagonalisé A. Ses valeurs propres sont ainsi les valeurs sur la diagonale. Le ma matrice V contient aussi les vecteurs propres dans ses colonnes. Nous avons donc effectivement extrait les valeurs et vecteurs propres de la matrice A."
   ]
  },
  {
   "cell_type": "code",
   "execution_count": 13,
   "metadata": {},
   "outputs": [
    {
     "name": "stdout",
     "output_type": "stream",
     "text": [
      "[21.0, -8.0000000000000018, -2.9999999999999991, 1.0] \n",
      " [[ 0.43151697  0.38357064  0.77459667 -0.25819889]\n",
      " [ 0.38357064 -0.43151697  0.25819889  0.77459667]\n",
      " [ 0.62330229 -0.52740963 -0.25819889 -0.51639778]\n",
      " [ 0.52740963  0.62330229 -0.51639778  0.25819889]]\n"
     ]
    }
   ],
   "source": [
    "A = np.array([[1.0,4.0,8.0,4.0], [4.0,2.0,3.0,7.0],[8.0,3.0,6.0,9.0],[4.0,7.0,9.0,2.0]])\n",
    "\n",
    "def extract_eigenvalues(A, epsilon = 1e-9):\n",
    "    V = np.identity(len(A))\n",
    "    condition = True\n",
    "    while condition:\n",
    "        condition = False\n",
    "        Q,R = mat_a_QR(A)\n",
    "        A = np.dot(R,Q)\n",
    "        for x in range(len(A)):\n",
    "            for y in range(len(A)):\n",
    "                if x!=y:\n",
    "                    if A[x,y] > epsilon:\n",
    "                        condition = True\n",
    "        V = np.dot(V,Q)\n",
    "    eigenvalues = []\n",
    "    for x in range(len(A)):\n",
    "        eigenvalues.append(A[x,x])\n",
    "    return eigenvalues, V\n",
    "\n",
    "values, vectors = extract_eigenvalues(A)\n",
    "print(values,\"\\n\",  vectors)"
   ]
  },
  {
   "cell_type": "code",
   "execution_count": null,
   "metadata": {},
   "outputs": [],
   "source": []
  }
 ],
 "metadata": {
  "kernelspec": {
   "display_name": "Python 3",
   "language": "python",
   "name": "python3"
  },
  "language_info": {
   "codemirror_mode": {
    "name": "ipython",
    "version": 3
   },
   "file_extension": ".py",
   "mimetype": "text/x-python",
   "name": "python",
   "nbconvert_exporter": "python",
   "pygments_lexer": "ipython3",
   "version": "3.6.3"
  },
  "latex_envs": {
   "LaTeX_envs_menu_present": true,
   "autoclose": false,
   "autocomplete": true,
   "bibliofile": "biblio.bib",
   "cite_by": "apalike",
   "current_citInitial": 1,
   "eqLabelWithNumbers": true,
   "eqNumInitial": 1,
   "hotkeys": {
    "equation": "Ctrl-E",
    "itemize": "Ctrl-I"
   },
   "labels_anchors": false,
   "latex_user_defs": false,
   "report_style_numbering": false,
   "user_envs_cfg": false
  }
 },
 "nbformat": 4,
 "nbformat_minor": 2
}
