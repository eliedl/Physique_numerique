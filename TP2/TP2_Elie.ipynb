{
 "cells": [
  {
   "cell_type": "code",
   "execution_count": 2,
   "metadata": {
    "collapsed": true
   },
   "outputs": [],
   "source": [
    "import numpy as np\n",
    "from scipy.constants import physical_constants as pc"
   ]
  },
  {
   "cell_type": "markdown",
   "metadata": {},
   "source": [
    "## Puits quantique asymétrique\n"
   ]
  },
  {
   "cell_type": "code",
   "execution_count": 31,
   "metadata": {
    "collapsed": false
   },
   "outputs": [
    {
     "name": "stdout",
     "output_type": "stream",
     "text": [
      "-5.4037964609246805\n",
      "[[  5.           5.40379646   0.           2.16151858   0.           1.38954766\n",
      "    0.           1.02929456   0.           0.81875704]\n",
      " [ -5.40379646   5.           9.72683363   0.           3.85985461   0.\n",
      "    2.52177168   0.           1.89483772   0.        ]\n",
      " [  0.          -9.72683363   5.          13.89547661   0.           5.40379646\n",
      "    0.           3.53703041   0.           2.67220704]\n",
      " [ -2.16151858   0.         -13.89547661   5.          18.01265487   0.\n",
      "    6.87755913   0.           4.48930783   0.        ]\n",
      " [  0.          -3.85985461   0.         -18.01265487   5.          22.10644007\n",
      "    0.           8.31353302   0.           5.40379646]\n",
      " [ -1.38954766   0.          -5.40379646   0.         -22.10644007   5.\n",
      "   26.187629     0.           9.72683363   0.        ]\n",
      " [  0.          -2.52177168   0.          -6.87755913   0.         -26.187629\n",
      "    5.          30.26126018   0.          11.1254633 ]\n",
      " [ -1.02929456   0.          -3.53703041   0.          -8.31353302   0.\n",
      "  -30.26126018   5.          34.33000105   0.        ]\n",
      " [  0.          -1.89483772   0.          -4.48930783   0.          -9.72683363\n",
      "    0.         -34.33000105   5.          38.39539591]\n",
      " [ -0.81875704   0.          -2.67220704   0.          -5.40379646   0.\n",
      "  -11.1254633    0.         -38.39539591   5.        ]]\n"
     ]
    }
   ],
   "source": [
    "def get_H_mn(m, n, a=10, L=5e-10):\n",
    "    hbar = pc['Planck constant over 2 pi'][0]\n",
    "    m_e = pc['electron mass'][0]\n",
    "    \n",
    "    # Résultat du terme de qte de mvt\n",
    "    tmp = (n*np.pi*hbar)**2/(4*m_e*L)\n",
    "    \n",
    "    \n",
    "    # Résultat du terme de potentiel\n",
    "    if m != n:\n",
    "\n",
    "        # Si les deux sont simultanément pairs ou impairs\n",
    "        if ((m%2 == 0) and (n%2 == 0)) or ((m%2 != 0) and (n%2 != 0)):\n",
    "\n",
    "            H_mn = 0\n",
    "\n",
    "        # Si l'un est pair et l'autre est impair, et inversement\n",
    "        elif ((m%2 == 0) and (n%2 != 0)) or ((m%2 != 0) and (n%2 == 0)):\n",
    "            H_mn = -(a*4*L/np.pi**2)*(m*n/(m**2 - n**2))\n",
    "    \n",
    "    # Si m = n\n",
    "    else: \n",
    "        H_mn = a*L/4 + tmp\n",
    "            \n",
    "    return 2*(H_mn)/L\n",
    "\n",
    "\n",
    "\n",
    "\n",
    "def get_H(m, n):\n",
    "    \n",
    "    H = np.zeros((m, n))\n",
    "    \n",
    "    for i in range(m):\n",
    "        for j in range(n):\n",
    "            \n",
    "            H[i, j] = get_H_mn(i+1, j+1)\n",
    "            \n",
    "    return H\n",
    "\n",
    "\n",
    "np.set_printoptions(threshold=np.nan)\n",
    "\n",
    "H_mn = get_H_mn(2, 1)\n",
    "print(H_mn)\n",
    "H = get_H(10, 10)\n",
    "print(H)\n",
    "\n",
    "            \n",
    "                "
   ]
  }
 ],
 "metadata": {
  "kernelspec": {
   "display_name": "Python 3",
   "language": "python",
   "name": "python3"
  },
  "language_info": {
   "codemirror_mode": {
    "name": "ipython",
    "version": 3
   },
   "file_extension": ".py",
   "mimetype": "text/x-python",
   "name": "python",
   "nbconvert_exporter": "python",
   "pygments_lexer": "ipython3",
   "version": "3.5.3"
  }
 },
 "nbformat": 4,
 "nbformat_minor": 0
}
