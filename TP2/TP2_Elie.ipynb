{
 "cells": [
  {
   "cell_type": "code",
   "execution_count": 9,
   "metadata": {
    "collapsed": true
   },
   "outputs": [],
   "source": [
    "import numpy as np\n",
    "from scipy.constants import physical_constants as pc\n",
    "import matplotlib.pyplot as plt\n"
   ]
  },
  {
   "cell_type": "markdown",
   "metadata": {},
   "source": [
    "a) Démontrez, par induction ou autrement, que les vecteurs $q_i$ sont orthonormaux.\n",
    "\n",
    "Ces vecteurs sont construits comme:\n",
    "$$u_0 = a_0 \n",
    "\\\\ u_1 = a_1 - (q_0\\cdot a_1)q_0  \n",
    "\\\\ u_2 = a_2  - (q_0\\cdot a_2)q_0  - (q_1\\cdot a_2)q_1  \n",
    " \\\\q_0 = \\frac{u_0}{|u_0|}\n",
    " \\\\q_1=\\frac{u_1}{|u_1|}\n",
    " \\\\q_2=\\frac{u_2}{|u_2|}$$\n",
    " \n",
    " on remarque rapidement que les vecteurs $u_i$ sont orthogonaux par contruction. En effet, $u_1$ est simplement la soustraction entre $a_1$ et sa projection sur la direction de $a_0$. La résultante est alors nécessairement orthogonale à $a_0$ et donc $u_0$. Il est est de même pour $u_2$ qu'on force à être orthogonal à $u_1$ et $u_0$ de la même façon.\n",
    " \n",
    " Nous savons donc que les vecteurs $u_i$ sont nécessairement orthogonaux. Comme les $q_i$ sont simplement les vecteurs $u_i$ avec une norme de 1, les vecteurs $q_i$ sont alors nécessairement orthonormés par construction."
   ]
  },
  {
   "cell_type": "markdown",
   "metadata": {},
   "source": [
    "b) En suivant les instructions de l'énoncé du devoir, il est possible de reconstruire les matrices Q et R pour toute matrice d'entrée. En effet, comme Q et R sont simplement composés de $a_i$, $u_i$ et $q_i$, nous utilisons simplement les relations du numéro précédent pour les calculer. Le code suivant commence calculer tous ces vecteurs, puis les insère dans les matrices Q et R de façon appropriée. \n",
    "\n",
    "On entre alors la matrice suivante dans l'algorithme\n",
    "$$ A = \\begin{pmatrix}\n",
    "1&4&8&4\\\\ \n",
    "4&2&3&7\\\\ \n",
    "8&3&6&9\\\\ \n",
    "4&7&9& 2\n",
    "\\end{pmatrix}$$\n",
    "\n",
    "On obtient alors:\n",
    "$$Q = \\begin{pmatrix}\n",
    "0.102&0.558&0.81&0.148\\\\ \n",
    "0.406&-0.107&-0.141&0.896\\\\ \n",
    "0.812&-0.381&0.23&-0.377\\\\ \n",
    "0.406&0.729&-0.521&-0.179\n",
    "\\end{pmatrix}$$\n",
    "et\n",
    "$$ R =\\begin{pmatrix}\n",
    "9.849&6.498&10.56&11.372\\\\ \n",
    "0.0&5.981&8.423&-0.484\\\\ \n",
    "0.0&0.0&2.746&3.277\\\\ \n",
    "0.0&0.0&0.0&3.116\n",
    "\\end{pmatrix}$$\n",
    "On vérifie par la suite que l'algorithme ait bien produit les bons Q et R. En effet :\n",
    "$$ Q\\cdot R = \\begin{pmatrix}\n",
    "1.0&4.0&8.0&4.0\\\\ \n",
    "4.0&2.0&3.0&7.0\\\\ \n",
    "8.0&3.0&6.0&9.0\\\\ \n",
    "4.0&7.0&9.0&2.0\n",
    "\\end{pmatrix}$$"
   ]
  },
  {
   "cell_type": "code",
   "execution_count": 29,
   "metadata": {},
   "outputs": [
    {
     "name": "stdout",
     "output_type": "stream",
     "text": [
      "A = \n",
      "[[ 1.  4.  8.  4.]\n",
      " [ 4.  2.  3.  7.]\n",
      " [ 8.  3.  6.  9.]\n",
      " [ 4.  7.  9.  2.]],\n",
      " Q = \n",
      "[[ 0.10153462  0.558463    0.80981107  0.1483773 ]\n",
      " [ 0.40613847 -0.10686638 -0.14147555  0.8964462 ]\n",
      " [ 0.81227693 -0.38092692  0.22995024 -0.37712564]\n",
      " [ 0.40613847  0.72910447 -0.5208777  -0.17928924]],\n",
      " R = \n",
      "[[  9.8488578    6.49821546  10.55960012  11.37187705]\n",
      " [  0.           5.98106979   8.4234836   -0.484346  ]\n",
      " [  0.           0.           2.74586406   3.27671222]\n",
      " [  0.           0.           0.           3.11592335]],\n",
      " QR = \n",
      "[[ 1.  4.  8.  4.]\n",
      " [ 4.  2.  3.  7.]\n",
      " [ 8.  3.  6.  9.]\n",
      " [ 4.  7.  9.  2.]]\n"
     ]
    }
   ],
   "source": [
    "def latex_matrix(mat):\n",
    "    print(\"\\\\begin{pmatrix}\")\n",
    "    for i in range(len(mat)):\n",
    "        for j in range(len(mat)):\n",
    "            if j != len(mat) - 1:\n",
    "                print(np.round(mat[i,j],3), end = \"&\")\n",
    "            elif i != len(mat) -1:\n",
    "                print(np.round(mat[i,j],3), end = \"\\\\\\\\ \\n\")\n",
    "            else:\n",
    "                print(np.round(mat[i,j],3))\n",
    "    print(\"\\\\end{pmatrix}\")\n",
    "    \n",
    "def mat_a_QR(A):\n",
    "\n",
    "    A = A.T\n",
    "    Q_trans = np.copy(A) *0\n",
    "    R_trans = np.copy(A) *0\n",
    "    \n",
    "    u_liste = []\n",
    "    q_liste = []\n",
    "    a_liste = []\n",
    "    \n",
    "    for i in range(len(A)):\n",
    "        ai = np.array(A[i][:])\n",
    "        ui = ai\n",
    "        for j in range(i):\n",
    "            ui = np.subtract(ui, np.dot(q_liste[j], ai)*q_liste[j])\n",
    "        q_liste.append(ui/np.linalg.norm(ui))\n",
    "        u_liste.append(ui)\n",
    "        a_liste.append(ai)\n",
    "    \n",
    "    for i in range(len(A)):\n",
    "        R_trans[i][i] = np.linalg.norm(u_liste[i])\n",
    "        for j in range(i+1,len(A)):\n",
    "            R_trans[i][j] = np.dot(q_liste[i],a_liste[j])\n",
    "\n",
    "    return np.array(q_liste).T, R_trans\n",
    "\n",
    "               \n",
    "A = np.array([[1.0,4.0,8.0,4.0], [4.0,2.0,3.0,7.0],[8.0,3.0,6.0,9.0],[4.0,7.0,9.0,2.0]])\n",
    "Q,R = mat_a_QR(A)\n",
    "print(\"A = \\n{},\\n Q = \\n{},\\n R = \\n{},\\n QR = \\n{}\".format(A,Q,R,np.dot(Q,R)))\n"
   ]
  },
  {
   "cell_type": "markdown",
   "metadata": {},
   "source": [
    "c) Écrire un programme permattant de calculer les vecteurs propres et valeurs propres d'une matrice carrée réelle.\n",
    "\n",
    "Les étapes à suivre pour obtenir les valeurs et vecteurs propres à partir des matrices Q et R sont, selon la page 244 du Newmann,:\n",
    "\\begin{enumerate}\n",
    "\\item Créer V, une matrice NxN, qui contiendra les vecteurs propres et l'initialiser comme étant la matrice identité. On sélectionne aussi un seuil $\\epsilon$ pour plus tard.\n",
    "\\item On calcule la décomposition QR de la matrice A\n",
    "\\item On actualise A à $A = RQ$\n",
    "\\item On multiplie Q à V par la droite\n",
    "\\item On vérifie si les valeurs hors diagonales sont inférieurs à la valeur seuil\n",
    "\\end{enumerate}\n",
    "À la fin de l'algorithme, nous avons effectivement diagonalisé A. Ses valeurs propres sont ainsi les valeurs sur la diagonale. Le ma matrice V contient aussi les vecteurs propres dans ses colonnes. Nous avons donc effectivement extrait les valeurs et vecteurs propres de la matrice A.\n",
    "\n",
    "Après avoir exécuté l'algorithme ci-bas, nous obtenons des valeurs propres de:\n",
    "\n",
    "$21.0,\\ -8.0,\\ -3.0,\\ \\ 1.0$\n",
    "\n",
    "En utilisant comme entrée la matrice A du numéro précédent. Nous utilisons aussi un $\\epsilon$ de $10^{-9}$. La matrice V contenant les vecteur propres est alors:\n",
    "\n",
    "$$\\begin{pmatrix}\n",
    " 0.43151697 & 0.38357064 & 0.77459667 &-0.25819889  \\\\\n",
    "  0.38357064 &-0.43151697 & 0.25819889 & 0.77459667\\\\\n",
    "  0.62330229 &-0.52740963 &-0.25819889 &-0.51639778\\\\\n",
    "  0.52740963 & 0.62330229 &-0.51639778 & 0.25819889\n",
    "\\end{pmatrix} $$"
   ]
  },
  {
   "cell_type": "code",
   "execution_count": 32,
   "metadata": {},
   "outputs": [
    {
     "name": "stdout",
     "output_type": "stream",
     "text": [
      "[ 21.  -8.  -3.   1.] \n",
      " [[ 0.43151697  0.38357064  0.77459667 -0.25819889]\n",
      " [ 0.38357064 -0.43151697  0.25819889  0.77459667]\n",
      " [ 0.62330229 -0.52740963 -0.25819889 -0.51639778]\n",
      " [ 0.52740963  0.62330229 -0.51639778  0.25819889]]\n"
     ]
    }
   ],
   "source": [
    "A = np.array([[1.0,4.0,8.0,4.0], [4.0,2.0,3.0,7.0],[8.0,3.0,6.0,9.0],[4.0,7.0,9.0,2.0]])\n",
    "\n",
    "def extract_eigenvalues(A, epsilon = 1e-9):\n",
    "    V = np.identity(len(A))\n",
    "    condition = True\n",
    "    while condition:\n",
    "        condition = False\n",
    "        Q,R = mat_a_QR(A)\n",
    "        A = np.dot(R,Q)\n",
    "        for x in range(len(A)):\n",
    "            for y in range(len(A)):\n",
    "                if x!=y:\n",
    "                    if A[x,y] > epsilon:\n",
    "                        condition = True\n",
    "        V = np.dot(V,Q)\n",
    "    eigenvalues = []\n",
    "    for x in range(len(A)):\n",
    "        eigenvalues.append(A[x,x])\n",
    "    return np.array(eigenvalues), V\n",
    "\n",
    "values, vectors = extract_eigenvalues(A)\n",
    "print(values,\"\\n\",  vectors)"
   ]
  },
  {
   "cell_type": "markdown",
   "metadata": {},
   "source": [
    "## Puits quantique asymétrique\n",
    "\n",
    "### d)\n",
    "\n",
    "Dans un état d'énergie $E$, La partie spatiale de la fonction d'onde obéit à l'équation de schr\\\"odinger indépendante du temps $\\hat{H}\\psi(x) =\n",
    "E\\psi(x)$, où l'opérateur hamiltonien $\\hat{H}$ est donné par \n",
    "\\begin{align}\n",
    "\\hat{H} = - {\\hbar^2\\over2M}\\,{d^2\\over dx^2} + V(x).\n",
    "\\end{align}\n",
    "\n",
    "En considérant que le puits de potentiel est infini à $x=0$ et $x=L$, on obtient la fonction d'onde suivante \n",
    "\\begin{align}\n",
    "\\psi(x) = \\sum_{n=1}^\\infty \\psi_n \\sin {\\frac{\\pi n x}{L}},\n",
    "\\end{align}\n",
    "où les  $\\psi_n$ sont les coefficients de Fourier.\n",
    "\n",
    "Sachant que pour des entier $m, n$ positifs,\n",
    "\\begin{align}\n",
    "\\int_0^L \\sin {\\pi m x\\over L} \\,\\sin{\\pi n x\\over L} dx\n",
    "  = \\begin{cases}\n",
    "      L/2 & \\text{si $m=n$,} \\\\\n",
    "      0          & \\text{autrement,}\n",
    "    \\end{cases} \n",
    "\\end{align}\n",
    "\n",
    "On veut montrer que $\\hat{H}\\psi = E\\psi$ implique\n",
    "\n",
    "\\begin{align}\n",
    "\\sum_{n=1}^\\infty \\psi_n \\int_0^L \\sin{\\pi m x\\over L}\n",
    "                  \\hat{H}\\sin{\\pi n x\\over L} dx\n",
    "  = \\frac{L}{2} E \\psi_m.\n",
    "\\end{align}\n",
    "\n",
    "Procédons.\n",
    "\n",
    "\n",
    "\\begin{align}\n",
    "\\hat{H}\\psi(x) = \\hat{H}\\sum_{n} \\psi_n \\sin {\\frac{\\pi n x}{L}} = E\\sum_{m} \\psi_m \\sin {\\frac{\\pi m x}{L}}\n",
    "\\end{align}\n",
    "\n",
    "On introduit $\\sum_{j}\\sin {\\frac{\\pi j x}{L}}$ de chaque côté, \n",
    "\n",
    "\\begin{align}\n",
    "\\sum_{n} \\sum_{j} \\hat{H}\\psi_n \\sin {\\frac{\\pi n x}{L}}  \\sin {\\frac{\\pi j x}{L}} = E\\sum_{m} \\sum_{j}  \\psi_m \\sin {\\frac{\\pi m x}{L}} \\sin {\\frac{\\pi j x}{L}}\n",
    "\\end{align}\n",
    "\n",
    "On intègre ensuite de chaque côté,\n",
    "\n",
    "\\begin{align}\n",
    "\\sum_{n} \\sum_{j} \\psi_n \\int_0^L\\sin {\\frac{\\pi n x}{L}} \\hat{H} \\sin {\\frac{\\pi j x}{L}} dx = E\\sum_{m} \\sum_{j}  \\psi_m \\int_0^L \\sin {\\frac{\\pi m x}{L}} \\sin {\\frac{\\pi j x}{L}} dx\n",
    "\\end{align}\n",
    "\n",
    "avec la condition d'orthogonalité et en choisissant $j = m$, \n",
    "\n",
    "\\begin{align}\n",
    "\\sum_{m} \\sum_{n}  \\psi_n \\int_0^L\\sin {\\frac{\\pi n x}{L}} \\hat{H} \\sin {\\frac{\\pi m x}{L}} dx &= \\frac{L}{2}E\\sum_{m} \\psi_m \\\\\n",
    "\\Rightarrow \\sum_{n}  \\psi_n \\int_0^L\\sin {\\frac{\\pi n x}{L}} \\hat{H} \\sin {\\frac{\\pi m x}{L}} dx &= \\frac{L}{2}E \\psi_m \\ \\ \\ \\ \\text{C.Q.F.D}\n",
    "\\end{align}\n",
    "\n",
    "\n",
    "On peut ainsi définir les éléments $H_{mn}$ d'une matrice $\\mathbf{H}$ comme\n",
    "\\begin{align}\n",
    "H_{mn} &= {2\\over L} \\int_0^L \\sin{\\pi m x\\over L}\n",
    "          \\hat{H}\\sin{\\pi n x\\over L}  dx \\nonumber\\\\\n",
    "       &= {2\\over L} \\int_0^L \\sin{\\pi m x\\over L}\n",
    "          \\left[ - {\\hbar^2\\over2M}\\,{d^2\\over dx^2} + V(x) \\right]\n",
    "          \\sin{\\pi n x\\over L} dx,\n",
    "\\end{align}\n",
    "\n",
    "Pour ensuite voir que\n",
    "\n",
    "\\begin{align}\n",
    "\\sum_{n} H_{mn} \\psi_n = E \\psi_m\n",
    "\\end{align}\n",
    "\n",
    "\n",
    "\n",
    "### e) \n",
    "\n",
    "Avec un potentiel de la forme $V(x) = ax/L$, l'expression de $H_mn$ devient\n",
    "\n",
    "\\begin{align}\n",
    "H_{mn} &= \\frac{2}{L} \\int_0^L \\sin \\left(\\frac{m\\pi x}{L}\\right)\\left[\\frac{-\\hbar^2}{2m} \\frac{d^2}{dx^2} + \\frac{ax}{L}\\right] \\sin \\left(\\frac{n\\pi x}{L}\\right) dx \\\\\n",
    "&= \\frac{2}{L} \\left\\{\\underbrace{\\int_0^L \\sin \\left(\\frac{m\\pi x}{L}\\right)\\left[\\frac{-\\hbar^2}{2m} \\frac{d^2}{dx^2} \\sin \\left(\\frac{n\\pi x}{L}\\right)\\right]dx}_{(1)} + \\underbrace{\\int_0^L \\sin \\left(\\frac{m\\pi x}{L}\\right)\\frac{ax}{L} \\sin \\left(\\frac{n\\pi x}{L}\\right)dx}_{(2)} \\right\\}\\\\[0.5cm]\n",
    "(1) &= \\left( \\frac{n\\pi}{L}\\right)^2\\frac{\\hbar^2}{2m} \\int_0^L \\sin \\left(\\frac{m\\pi x}{L}\\right)\\sin \\left(\\frac{n\\pi x}{L}\\right)dx\\\\[0.2cm]\n",
    "&= \n",
    "\\begin{cases}\n",
    "      0 & \\text{si}\\ m\\neq n \\\\\n",
    "      \\frac{1}{4mL}\\left(n\\pi\\hbar\\right)^2 & \\text{si}\\ m=n\n",
    "\\end{cases}\n",
    "\\\\[0.5cm]\n",
    "(2) &= \\frac{a}{L}\\int_0^L x\\sin \\left(\\frac{m\\pi x}{L}\\right) \\sin \\left(\\frac{n\\pi x}{L}\\right)dx \\\\[0.2cm]\n",
    "&= \n",
    "\\begin{cases}\n",
    "      0 & \\text{si $m\\neq n$ et $m, n$ sont pairs} \\\\\n",
    "      -\\frac{a}{L}\\left(\\frac{2L}{\\pi}\\right)^2\\frac{mn}{m^2-n^2} & \\text{si $m\\neq n$ et l'un et l'autre est impair} \\\\\n",
    "      \\frac{aL}{4}& \\text{si $m=n$}\n",
    "\\end{cases}\n",
    "\\end{align}\n"
   ]
  },
  {
   "cell_type": "code",
   "execution_count": 19,
   "metadata": {},
   "outputs": [
    {
     "name": "stdout",
     "output_type": "stream",
     "text": [
      "-2.885987563231175e-19\n"
     ]
    }
   ],
   "source": [
    "def get_H_mn(m, n, a=10, L=5e-10):\n",
    "    hbar = pc['Planck constant over 2 pi'][0] # J*s\n",
    "    m_e = pc['electron mass'][0]              # Kg\n",
    "    a = 10 * 1.6022e-19 # Conversion eV --> Joules\n",
    "    \n",
    "    # Résultat du terme de potentiel\n",
    "    if m != n:\n",
    "\n",
    "        # Si les deux sont simultanément pairs ou impairs\n",
    "        if ((m%2 == 0) and (n%2 == 0)) or ((m%2 != 0) and (n%2 != 0)):\n",
    "\n",
    "            H_mn = 0\n",
    "\n",
    "        # Si l'un est pair et l'autre est impair, et inversement\n",
    "        elif ((m%2 == 0) and (n%2 != 0)) or ((m%2 != 0) and (n%2 == 0)):\n",
    "            H_mn = -(a*4*L/np.pi**2)*(m*n/(m**2 - n**2)**2)\n",
    "    \n",
    "    # Si m = n\n",
    "    else: \n",
    "        # Résultat du terme de qte de mvt\n",
    "        tmp = (n*np.pi*hbar)**2/(4*m_e*L)\n",
    "        H_mn = a*L/4 + tmp\n",
    "            \n",
    "    return 2*(H_mn)/L\n",
    "\n",
    "H_mn = get_H_mn(2, 1)\n",
    "print(H_mn)                "
   ]
  },
  {
   "cell_type": "markdown",
   "metadata": {},
   "source": [
    "### f) "
   ]
  },
  {
   "cell_type": "code",
   "execution_count": 35,
   "metadata": {},
   "outputs": [
    {
     "name": "stdout",
     "output_type": "stream",
     "text": [
      "[   5.83634647   11.18100624   18.66269569   29.14384749   42.65452654\n",
      "   59.1844677    78.72828442  101.28407855  126.84960704  155.55313468]\n",
      "[   7.77088606   10.78933013   18.13502651   28.82256113   42.46871048\n",
      "   59.06827942   78.65157195  101.22828162  126.80848609  155.33486142]\n"
     ]
    }
   ],
   "source": [
    "def get_H(m, n):\n",
    "    \n",
    "    H = np.zeros((m, n))\n",
    "    \n",
    "    for i in range(m):\n",
    "        for j in range(n):\n",
    "            \n",
    "            H[i, j] = get_H_mn(i+1, j+1)\n",
    "            \n",
    "    return H\n",
    "\n",
    "H = get_H(10, 10)\n",
    "\n",
    "#H_dag = H.conj().T\n",
    "\n",
    "# Vérification Hermitienne\n",
    "#print(H_dag == H)\n",
    "\n",
    "# Méthode Numpy\n",
    "eigval, eigvec = np.linalg.eigh(H)\n",
    "\n",
    "# Décomposition QR\n",
    "values, vectors = extract_eigenvalues(H, 1e-3)\n",
    "\n",
    "eigval = eigval/1.6022e-19 \n",
    "values = values/1.6022e-19\n",
    "print(eigval)\n",
    "print(values)"
   ]
  },
  {
   "cell_type": "markdown",
   "metadata": {},
   "source": [
    "### g)"
   ]
  },
  {
   "cell_type": "code",
   "execution_count": 26,
   "metadata": {},
   "outputs": [
    {
     "name": "stdout",
     "output_type": "stream",
     "text": [
      "[   5.83634607   11.18100492   18.66269382   29.14383869   42.65451742\n",
      "   59.18441512   78.72823259  101.2834476   126.84877469  155.42351032]\n"
     ]
    }
   ],
   "source": [
    "H_100 = get_H(100, 100)\n",
    "\n",
    "eigval_100, eigvec_100 = np.linalg.eigh(H_100)\n",
    "eigval_100 = eigval_100/1.6022e-19 \n",
    "print(eigval_100[:10])\n"
   ]
  },
  {
   "cell_type": "code",
   "execution_count": 43,
   "metadata": {
    "scrolled": true
   },
   "outputs": [
    {
     "data": {
      "image/png": "[encoded data removed]",
      "text/plain": [
       "<matplotlib.figure.Figure at 0x2899cc49940>"
      ]
     },
     "metadata": {},
     "output_type": "display_data"
    }
   ],
   "source": [
    "def get_psi_x(mat, n, L=5e-10):\n",
    "    \n",
    "    eigvals, eigvecs = np.linalg.eigh(mat)\n",
    "    \n",
    "    \n",
    "    eigvec = eigvecs[:, n-1]\n",
    "    \n",
    "    x = np.linspace(0, L, 1000)\n",
    "    psi_x = np.zeros(len(x))\n",
    "    \n",
    "    for i in range(1, len(eigvec)+1):\n",
    "        psi_n = eigvec[i-1]\n",
    "        psi_x += psi_n*np.sin((np.pi*i*x)/L)\n",
    "        \n",
    "    return psi_x, x      \n",
    "    \n",
    "psi_1_x, domain = get_psi_x(H, 1)\n",
    "psi_2_x, _ = get_psi_x(H, 2)\n",
    "psi_3_x, _ = get_psi_x(H, 3)\n",
    "\n",
    "\n",
    "plt.plot(domain, psi_1_x, label='n = 1')\n",
    "plt.plot(domain, psi_2_x, label='n = 2')\n",
    "plt.plot(domain, psi_3_x, label='n = 3')\n",
    "\n",
    "plt.ylabel('Amplitude [-]')\n",
    "plt.xlabel('Position [m]')\n",
    "plt.grid(which='Major', ls='--', alpha=0.6)\n",
    "plt.legend(fancybox=True, shadow=True)\n",
    "plt.xlim([0, 5e-10])\n",
    "plt.show()"
   ]
  }
 ],
 "metadata": {
  "kernelspec": {
   "display_name": "Python 3",
   "language": "python",
   "name": "python3"
  },
  "language_info": {
   "codemirror_mode": {
    "name": "ipython",
    "version": 3
   },
   "file_extension": ".py",
   "mimetype": "text/x-python",
   "name": "python",
   "nbconvert_exporter": "python",
   "pygments_lexer": "ipython3",
   "version": "3.6.3"
  },
  "latex_envs": {
   "LaTeX_envs_menu_present": true,
   "autoclose": false,
   "autocomplete": true,
   "bibliofile": "biblio.bib",
   "cite_by": "apalike",
   "current_citInitial": 1,
   "eqLabelWithNumbers": true,
   "eqNumInitial": 1,
   "hotkeys": {
    "equation": "Ctrl-E",
    "itemize": "Ctrl-I"
   },
   "labels_anchors": false,
   "latex_user_defs": false,
   "report_style_numbering": false,
   "user_envs_cfg": false
  }
 },
 "nbformat": 4,
 "nbformat_minor": 1
}
