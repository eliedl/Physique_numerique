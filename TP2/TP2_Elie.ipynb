{
 "cells": [
  {
   "cell_type": "code",
   "execution_count": 39,
   "metadata": {
    "collapsed": true
   },
   "outputs": [],
   "source": [
    "import numpy as np\n",
    "from scipy.constants import physical_constants as pc\n",
    "import matplotlib.pyplot as plt\n"
   ]
  },
  {
   "cell_type": "markdown",
   "metadata": {},
   "source": [
    "## Puits quantique asymétrique\n",
    "\n",
    "### d)\n",
    "\n",
    "Dans un état d'énergie $E$, La partie spatiale de la fonction d'onde obéit à l'équation de schr\\\"odinger indépendante du temps $\\hat{H}\\psi(x) =\n",
    "E\\psi(x)$, où l'opérateur hamiltonien $\\hat{H}$ est donné par \n",
    "\\begin{align}\n",
    "\\hat{H} = - {\\hbar^2\\over2M}\\,{d^2\\over dx^2} + V(x).\n",
    "\\end{align}\n",
    "\n",
    "En considérant que le puits de potentiel est infini à $x=0$ et $x=L$, on obtient la fonction d'onde suivante \n",
    "\\begin{align}\n",
    "\\psi(x) = \\sum_{n=1}^\\infty \\psi_n \\sin {\\frac{\\pi n x}{L}},\n",
    "\\end{align}\n",
    "où les  $\\psi_n$ sont les coefficients de Fourier.\n",
    "\n",
    "Sachant que pour des entier $m, n$ positifs,\n",
    "\\begin{align}\n",
    "\\int_0^L \\sin {\\pi m x\\over L} \\,\\sin{\\pi n x\\over L} dx\n",
    "  = \\begin{cases}\n",
    "      L/2 & \\text{si $m=n$,} \\\\\n",
    "      0          & \\text{autrement,}\n",
    "    \\end{cases} \n",
    "\\end{align}\n",
    "\n",
    "On veut montrer que $\\hat{H}\\psi = E\\psi$ implique\n",
    "\n",
    "\\begin{align}\n",
    "\\sum_{n=1}^\\infty \\psi_n \\int_0^L \\sin{\\pi m x\\over L}\n",
    "                  \\hat{H}\\sin{\\pi n x\\over L} dx\n",
    "  = \\frac{L}{2} E \\psi_m.\n",
    "\\end{align}\n",
    "\n",
    "Procédons.\n",
    "\n",
    "\n",
    "\\begin{align}\n",
    "\\hat{H}\\psi(x) = \\hat{H}\\sum_{n} \\psi_n \\sin {\\frac{\\pi n x}{L}} = E\\sum_{m} \\psi_m \\sin {\\frac{\\pi m x}{L}}\n",
    "\\end{align}\n",
    "\n",
    "On introduit $\\sum_{j}\\sin {\\frac{\\pi j x}{L}}$ de chaque côté, \n",
    "\n",
    "\\begin{align}\n",
    "\\sum_{n} \\sum_{j} \\hat{H}\\psi_n \\sin {\\frac{\\pi n x}{L}}  \\sin {\\frac{\\pi j x}{L}} = E\\sum_{m} \\sum_{j}  \\psi_m \\sin {\\frac{\\pi m x}{L}} \\sin {\\frac{\\pi j x}{L}}\n",
    "\\end{align}\n",
    "\n",
    "On intègre ensuite de chaque côté,\n",
    "\n",
    "\\begin{align}\n",
    "\\sum_{n} \\sum_{j} \\psi_n \\int_0^L\\sin {\\frac{\\pi n x}{L}} \\hat{H} \\sin {\\frac{\\pi j x}{L}} dx = E\\sum_{m} \\sum_{j}  \\psi_m \\int_0^L \\sin {\\frac{\\pi m x}{L}} \\sin {\\frac{\\pi j x}{L}} dx\n",
    "\\end{align}\n",
    "\n",
    "avec la condition d'orthogonalité et en choisissant $j = m$, \n",
    "\n",
    "\\begin{align}\n",
    "\\sum_{m} \\sum_{n}  \\psi_n \\int_0^L\\sin {\\frac{\\pi n x}{L}} \\hat{H} \\sin {\\frac{\\pi m x}{L}} dx &= \\frac{L}{2}E\\sum_{m} \\psi_m \\\\\n",
    "\\Rightarrow \\sum_{n}  \\psi_n \\int_0^L\\sin {\\frac{\\pi n x}{L}} \\hat{H} \\sin {\\frac{\\pi m x}{L}} dx &= \\frac{L}{2}E \\psi_m \\ \\ \\ \\ \\text{C.Q.F.D}\n",
    "\\end{align}\n",
    "\n",
    "\n",
    "On peut ainsi définir les éléments $H_{mn}$ d'une matrice $\\mathbf{H}$ comme\n",
    "\\begin{align}\n",
    "H_{mn} &= {2\\over L} \\int_0^L \\sin{\\pi m x\\over L}\n",
    "          \\hat{H}\\sin{\\pi n x\\over L}  dx \\nonumber\\\\\n",
    "       &= {2\\over L} \\int_0^L \\sin{\\pi m x\\over L}\n",
    "          \\left[ - {\\hbar^2\\over2M}\\,{d^2\\over dx^2} + V(x) \\right]\n",
    "          \\sin{\\pi n x\\over L} dx,\n",
    "\\end{align}\n",
    "\n",
    "Pour ensuite voir que\n",
    "\n",
    "\\begin{align}\n",
    "\\sum_{n} H_{mn} \\psi_n = E \\psi_m\n",
    "\\end{align}\n",
    "\n",
    "\n",
    "\n",
    "### e) \n",
    "\n",
    "Avec un potentiel de la forme $V(x) = ax/L$, l'expression de $H_mn$ devient\n",
    "\n",
    "\\begin{align}\n",
    "H_{mn} &= \\frac{2}{L} \\int_0^L \\sin \\left(\\frac{m\\pi x}{L}\\right)\\left[\\frac{-\\hbar^2}{2m} \\frac{d^2}{dx^2} + \\frac{ax}{L}\\right] \\sin \\left(\\frac{n\\pi x}{L}\\right) dx \\\\\n",
    "&= \\frac{2}{L} \\left\\{\\underbrace{\\int_0^L \\sin \\left(\\frac{m\\pi x}{L}\\right)\\left[\\frac{-\\hbar^2}{2m} \\frac{d^2}{dx^2} \\sin \\left(\\frac{n\\pi x}{L}\\right)\\right]dx}_{(1)} + \\underbrace{\\int_0^L \\sin \\left(\\frac{m\\pi x}{L}\\right)\\frac{ax}{L} \\sin \\left(\\frac{n\\pi x}{L}\\right)dx}_{(2)} \\right\\}\\\\[0.5cm]\n",
    "(1) &= \\left( \\frac{n\\pi}{L}\\right)^2\\frac{\\hbar^2}{2m} \\int_0^L \\sin \\left(\\frac{m\\pi x}{L}\\right)\\sin \\left(\\frac{n\\pi x}{L}\\right)dx\\\\[0.2cm]\n",
    "&= \n",
    "\\begin{cases}\n",
    "      0 & \\text{si}\\ m\\neq n \\\\\n",
    "      \\frac{1}{4mL}\\left(n\\pi\\hbar\\right)^2 & \\text{si}\\ m=n\n",
    "\\end{cases}\n",
    "\\\\[0.5cm]\n",
    "(2) &= \\frac{a}{L}\\int_0^L x\\sin \\left(\\frac{m\\pi x}{L}\\right) \\sin \\left(\\frac{n\\pi x}{L}\\right)dx \\\\[0.2cm]\n",
    "&= \n",
    "\\begin{cases}\n",
    "      0 & \\text{si $m\\neq n$ et $m, n$ sont pairs} \\\\\n",
    "      -\\frac{a}{L}\\left(\\frac{2L}{\\pi}\\right)^2\\frac{mn}{m^2-n^2} & \\text{si $m\\neq n$ et l'un et l'autre est impair} \\\\\n",
    "      \\frac{aL}{4}& \\text{si $m=n$}\n",
    "\\end{cases}\n",
    "\\end{align}\n"
   ]
  },
  {
   "cell_type": "code",
   "execution_count": 20,
   "metadata": {
    "collapsed": false
   },
   "outputs": [
    {
     "name": "stdout",
     "output_type": "stream",
     "text": [
      "-1.8012654869748936\n"
     ]
    }
   ],
   "source": [
    "def get_H_mn(m, n, a=10, L=5e-10):\n",
    "    hbar = pc['Planck constant over 2 pi'][0]\n",
    "    m_e = pc['electron mass'][0]\n",
    "    \n",
    "    # Résultat du terme de potentiel\n",
    "    if m != n:\n",
    "\n",
    "        # Si les deux sont simultanément pairs ou impairs\n",
    "        if ((m%2 == 0) and (n%2 == 0)) or ((m%2 != 0) and (n%2 != 0)):\n",
    "\n",
    "            H_mn = 0\n",
    "\n",
    "        # Si l'un est pair et l'autre est impair, et inversement\n",
    "        elif ((m%2 == 0) and (n%2 != 0)) or ((m%2 != 0) and (n%2 == 0)):\n",
    "            H_mn = -(a*4*L/np.pi**2)*(m*n/(m**2 - n**2)**2)\n",
    "    \n",
    "    # Si m = n\n",
    "    else: \n",
    "        # Résultat du terme de qte de mvt\n",
    "        tmp = (n*np.pi*hbar)**2/(4*m_e*L)\n",
    "        H_mn = a*L/4 + tmp\n",
    "            \n",
    "    return 2*(H_mn)/L\n",
    "\n",
    "H_mn = get_H_mn(2, 1)\n",
    "print(H_mn)                "
   ]
  },
  {
   "cell_type": "markdown",
   "metadata": {},
   "source": [
    "### f) "
   ]
  },
  {
   "cell_type": "code",
   "execution_count": 22,
   "metadata": {
    "collapsed": false
   },
   "outputs": [
    {
     "name": "stdout",
     "output_type": "stream",
     "text": [
      "[ 0.818577    1.74859529  2.67822706  3.60720235  4.53577781  5.46422219\n",
      "  6.39279765  7.32177294  8.25140471  9.181423  ]\n"
     ]
    }
   ],
   "source": [
    "def get_H(m, n):\n",
    "    \n",
    "    H = np.zeros((m, n))\n",
    "    \n",
    "    for i in range(m):\n",
    "        for j in range(n):\n",
    "            \n",
    "            H[i, j] = get_H_mn(i+1, j+1)\n",
    "            \n",
    "    return H\n",
    "\n",
    "H = get_H(10, 10)\n",
    "\n",
    "#H_dag = H.conj().T\n",
    "\n",
    "# Vérification Hermitienne\n",
    "#print(H_dag == H)\n",
    "\n",
    "eigval, eigvec = np.linalg.eigh(H)\n",
    "print(eigval)"
   ]
  },
  {
   "cell_type": "markdown",
   "metadata": {},
   "source": [
    "### g)"
   ]
  },
  {
   "cell_type": "code",
   "execution_count": 24,
   "metadata": {
    "collapsed": false
   },
   "outputs": [
    {
     "name": "stdout",
     "output_type": "stream",
     "text": [
      "[ 0.818577    1.74859529  2.67822706  3.60720235  4.53577781  5.46422219\n",
      "  6.39279765  7.32177294  8.25140471  9.181423  ]\n"
     ]
    }
   ],
   "source": [
    "H_100 = get_H(100, 100)\n",
    "\n",
    "eigval_100, eigvec_100 = np.linalg.eigh(H_100)\n",
    "\n",
    "print(eigval[:10])"
   ]
  },
  {
   "cell_type": "code",
   "execution_count": 50,
   "metadata": {
    "collapsed": false
   },
   "outputs": [
    {
     "name": "stdout",
     "output_type": "stream",
     "text": [
      "[ 0.2257763   0.38544236  0.43196604  0.35249947  0.1699809  -0.06003528\n",
      " -0.27090642 -0.39581763 -0.40018321 -0.25865513]\n",
      "[ 0.32114906  0.42768291  0.24867376 -0.09748098 -0.37912883 -0.41065448\n",
      " -0.16937751  0.17788579  0.40323347  0.32757341]\n",
      "[ 0.39050504  0.33132134 -0.10958669 -0.42287386 -0.24845023  0.21530677\n",
      "  0.43165078  0.15797189 -0.29571381 -0.37428832]\n"
     ]
    }
   ],
   "source": [
    "def get_psi_x(mat, n, L=5e-10):\n",
    "    \n",
    "    eigvals, eigvecs = np.linalg.eigh(mat)\n",
    "    \n",
    "    eigvec = eigvecs[:, n]\n",
    "    print(eigvec)\n",
    "    \n",
    "    x = np.linspace(0, L, 1000)\n",
    "    psi_x = np.zeros(len(x))\n",
    "    \n",
    "    for i in range(1, len(eigvec)+1):\n",
    "        psi_n = eigvec[i-1]\n",
    "        psi_x += psi_n*np.sin((np.pi*i*x)/L)\n",
    "        \n",
    "    return psi_x, x      \n",
    "    \n",
    "psi_1_x, domain = get_psi_x(H, 1)\n",
    "psi_2_x, _ = get_psi_x(H, 2)\n",
    "psi_3_x, _ = get_psi_x(H, 3)\n",
    "\n",
    "plt.plot(domain, psi_1_x)\n",
    "plt.plot(domain, psi_2_x)\n",
    "plt.plot(domain, psi_3_x)\n",
    "plt.show()"
   ]
  }
 ],
 "metadata": {
  "kernelspec": {
   "display_name": "Python 3",
   "language": "python",
   "name": "python3"
  },
  "language_info": {
   "codemirror_mode": {
    "name": "ipython",
    "version": 3
   },
   "file_extension": ".py",
   "mimetype": "text/x-python",
   "name": "python",
   "nbconvert_exporter": "python",
   "pygments_lexer": "ipython3",
   "version": "3.5.3"
  }
 },
 "nbformat": 4,
 "nbformat_minor": 0
}
